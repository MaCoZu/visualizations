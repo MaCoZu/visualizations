{
 "cells": [
  {
   "cell_type": "code",
   "execution_count": 3,
   "metadata": {},
   "outputs": [],
   "source": [
    "import plotly.express as px\n",
    "import pandas as pd"
   ]
  },
  {
   "cell_type": "code",
   "execution_count": 6,
   "metadata": {},
   "outputs": [
    {
     "name": "stdout",
     "output_type": "stream",
     "text": [
      "['Country', 'CountryID', 'Continent', 'Adolescent fertility rate (%)', 'Adult literacy rate (%)', 'Gross national income per capita (PPP international $)', 'Net primary school enrolment ratio female (%)', 'Net primary school enrolment ratio male (%)', 'Population (in thousands) total', 'Population annual growth rate (%)', 'Population in urban areas (%)', 'Population living below the poverty line (% living on &lt; US$1 per day)', 'Population median age (years)', 'Population proportion over 60 (%)', 'Population proportion under 15 (%)', 'Registration coverage of births (%)', 'Total fertility rate (per woman)', 'Antenatal care coverage - at least four visits (%)', 'Antiretroviral therapy coverage among HIV-infected pregt women for PMTCT (%)', 'Antiretroviral therapy coverage among people with advanced HIV infections (%)', 'Births attended by skilled health personnel (%)', 'Births by caesarean section (%)', 'Children aged 6-59 months who received vitamin A supplementation (%)', 'Children aged &lt;5 years sleeping under insecticide-treated nets (%)', 'Children aged &lt;5 years who received any antimalarial treatment for fever (%)', 'Children aged &lt;5 years with ARI symptoms taken to facility (%)', 'Children aged &lt;5 years with diarrhoea receiving ORT (%)', 'Contraceptive prevalence (%)', 'Neonates protected at birth against neonatal tetanus (PAB) (%)', 'One-year-olds immunized with MCV', 'One-year-olds immunized with three doses of diphtheria tetanus toxoid and pertussis (DTP3) (%)', 'One-year-olds immunized with three doses of Hepatitis B (HepB3) (%)', 'One-year-olds immunized with three doses of Hib (Hib3) vaccine (%)', 'Tuberculosis detection rate under DOTS (%)', 'Tuberculosis treatment success under DOTS (%)', 'Women who have had mammography (%)', 'Women who have had PAP smear (%)', 'Community and traditional health workers density (per 10 000 population)', 'Dentistry personnel density (per 10 000 population)', 'Environment and public health workers density (per 10 000 population)', 'External resources for health as percentage of total expenditure on health', 'General government expenditure on health as percentage of total expenditure on health', 'General government expenditure on health as percentage of total government expenditure', 'Hospital beds (per 10 000 population)', 'Laboratory health workers density (per 10 000 population)', 'Number of community and traditional health workers', 'Number of dentistry personnel', 'Number of environment and public health workers', 'Number of laboratory health workers', 'Number of nursing and midwifery personnel', 'Number of other health service providers', 'Number of pharmaceutical personnel', 'Number of physicians', 'Nursing and midwifery personnel density (per 10 000 population)', 'Other health service providers density (per 10 000 population)', 'Out-of-pocket expenditure as percentage of private expenditure on health', 'Per capita government expenditure on health (PPP int. $)', 'Per capita government expenditure on health at average exchange rate (US$)', 'Per capita total expenditure on health (PPP int. $)', 'Per capita total expenditure on health at average exchange rate (US$)', 'Pharmaceutical personnel density (per 10 000 population)', 'Physicians density (per 10 000 population)', 'Private expenditure on health as percentage of total expenditure on health', 'Private prepaid plans as percentage of private expenditure on health', 'Ratio of health management and support workers to health service providers', 'Ratio of nurses and midwives to physicians', 'Social security expenditure on health as percentage of general government expenditure on health', 'Total expenditure on health as percentage of gross domestic product', 'Births attended by skilled health personnel (%) highest educational level of mother', 'Births attended by skilled health personnel (%) highest wealth quintile', 'Births attended by skilled health personnel (%) lowest educational level of mother', 'Births attended by skilled health personnel (%) lowest wealth quintile', 'Births attended by skilled health personnel (%) rural', 'Births attended by skilled health personnel (%) urban', 'Births attended by skilled health personnel difference highest lowest educational level of mother', 'Births attended by skilled health personnel difference highest-lowest wealth quintile', 'Births attended by skilled health personnel difference urban-rural', 'Births attended by skilled health personnel ratio highest-lowest educational level of mother', 'Births attended by skilled health personnel ratio highest-lowest wealth quintile', 'Births attended by skilled health personnel ratio urban-rural', 'Measles immunization coverage among one-year-olds (%) highest educational level of mother', 'Measles immunization coverage among one-year-olds (%) highest wealth quintile', 'Measles immunization coverage among one-year-olds (%) lowest educational level of mother', 'Measles immunization coverage among one-year-olds (%) lowest wealth quintile', 'Measles immunization coverage among one-year-olds (%) rural', 'Measles immunization coverage among one-year-olds (%) urban', 'Measles immunization coverage among one-year-olds difference highest-lowest educational level of mother', 'Measles immunization coverage among one-year-olds difference highest-lowest wealth quintile', 'Measles immunization coverage among one-year-olds difference urban-rural', 'Measles immunization coverage among one-year-olds ratio highest-lowest educational level of mother', 'Measles immunization coverage among one-year-olds ratio highest-lowest wealth quintile', 'Measles immunization coverage among one-year-olds ratio urban-rural', 'Under-5 mortality rate (Probability of dying aged &lt; 5 years per 1 000 live births) difference lowest-highest educational level of mother', 'Under-5 mortality rate (Probability of dying aged &lt; 5 years per 1 000 live births) difference lowest-highest wealth quintile', 'Under-5 mortality rate (Probability of dying aged &lt; 5 years per 1 000 live births) difference rural-urban', 'Under-5 mortality rate (Probability of dying aged &lt; 5 years per 1 000 live births) highest educational level of mother', 'Under-5 mortality rate (Probability of dying aged &lt; 5 years per 1 000 live births) highest wealth quintile', 'Under-5 mortality rate (Probability of dying aged &lt; 5 years per 1 000 live births) lowest educational level of mother', 'Under-5 mortality rate (Probability of dying aged &lt; 5 years per 1 000 live births) lowest wealth quintile', 'Under-5 mortality rate (Probability of dying aged &lt; 5 years per 1 000 live births) ratio lowest-highest educational level of mother', 'Under-5 mortality rate (Probability of dying aged &lt; 5 years per 1 000 live births) ratio lowest-highest wealth quintile', 'Under-5 mortality rate (Probability of dying aged &lt; 5 years per 1 000 live births) ratio rural-urban', 'Under-5 mortality rate (Probability of dying aged &lt; 5 years per 1 000 live births) rural', 'Under-5 mortality rate (Probability of dying aged &lt; 5 years per 1 000 live births) urban', 'Adult mortality rate (probability of dying between 15 to 60 years per 1000 population) both sexes', 'Adult mortality rate (probability of dying between 15 to 60 years per 1000 population) female', 'Adult mortality rate (probability of dying between 15 to 60 years per 1000 population) male', 'Age-standardized mortality rate for cancer (per 100 000 population)', 'Age-standardized mortality rate for cardiovascular diseases (per 100 000 population)', 'Age-standardized mortality rate for injuries (per 100 000 population)', 'Age-standardized mortality rate for non-communicable diseases (per 100 000 population)', 'Deaths among children under five years of age due to diarrhoeal diseases (%)', 'Deaths among children under five years of age due to HIV/AIDS (%)', 'Deaths among children under five years of age due to injuries (%)', 'Deaths among children under five years of age due to malaria (%)', 'Deaths among children under five years of age due to measles (%)', 'Deaths among children under five years of age due to neonatal causes (%)', 'Deaths among children under five years of age due to other causes (%)', 'Deaths among children under five years of age due to pneumonia (%)', 'Deaths due to HIV/AIDS (per 100 000 population per year)', 'Deaths due to tuberculosis among HIV-negative people (per 100 000 population)', 'Deaths due to tuberculosis among HIV-positive people (per 100 000 population)', 'Healthy life expectancy (HALE) at birth (years) both sexes', 'Healthy life expectancy (HALE) at birth (years) female', 'Healthy life expectancy (HALE) at birth (years) male', 'Incidence of tuberculosis (per 100 000 population per year)', 'Infant mortality rate (per 1 000 live births) both sexes', 'Infant mortality rate (per 1 000 live births) female', 'Infant mortality rate (per 1 000 live births) male', 'Life expectancy at birth (years) both sexes', 'Life expectancy at birth (years) female ', 'Life expectancy at birth (years) male', 'Maternal mortality ratio (per 100 000 live births)', 'Neonatal mortality rate (per 1 000 live births)', 'Number of confirmed poliomyelitis cases', 'Prevalence of HIV among adults aged &gt;=15 years (per 100 000 population)', 'Prevalence of tuberculosis (per 100 000 population)', 'Under-5 mortality rate (probability of dying by age 5 per 1000 live births) both sexes', 'Under-5 mortality rate (probability of dying by age 5 per 1000 live births) female', 'Under-5 mortality rate (probability of dying by age 5 per 1000 live births) male', 'Years of life lost to communicable diseases (%)', 'Years of life lost to injuries (%)', 'Years of life lost to non-communicable diseases (%)', 'Children under five years of age overweight for age (%)', 'Children under five years of age stunted for age (%)', 'Children under five years of age underweight for age (%)', 'Newborns with low birth weight (%)', 'Per capita recorded alcohol consumption (litres of pure alcohol) among adults (&gt;=15 years)', 'Population using solid fuels (%) rural', 'Population using solid fuels (%) urban', 'Population with sustainable access to improved drinking water sources (%) rural', 'Population with sustainable access to improved drinking water sources (%) total', 'Population with sustainable access to improved drinking water sources (%) urban', 'Population with sustainable access to improved sanitation (%) rural', 'Population with sustainable access to improved sanitation (%) total', 'Population with sustainable access to improved sanitation (%) urban', 'Prevalence of adults (&gt;=15 years) who are obese (%) female', 'Prevalence of adults (&gt;=15 years) who are obese (%) male', 'Prevalence of condom use by young people (15-24 years) at higher risk sex (%) female', 'Prevalence of condom use by young people (15-24 years) at higher risk sex (%) male', 'Prevalence of current tobacco use among adolescents (13-15 years) (%) both sexes', 'Prevalence of current tobacco use among adolescents (13-15 years) (%) female', 'Prevalence of current tobacco use among adolescents (13-15 years) (%) male', 'Prevalence of current tobacco use among adults (&gt;=15 years) (%) both sexes', 'Prevalence of current tobacco use among adults (&gt;=15 years) (%) female', 'Prevalence of current tobacco use among adults (&gt;=15 years) (%) male', 'Adolescent_fertility_rate', 'Agricultural_land', 'Agriculture_contribution_to_economy', 'Aid_given', 'Aid_received', 'Aid_received_total', 'All_forms_of_TB_new_cases_per_100_000_estimated', 'All_forms_of_TB_new_cases_per_100_000_reported', 'Annual_freshwater_withdrawals_total', 'Arms_exports', 'Arms_imports', 'Bad_teeth_per_child', 'Births_attended_by_skilled_health_staff', 'Breast_cancer_deaths_per_100_000_women', 'Breast_cancer_new_cases_per_100_000_women', 'Breast_cancer_number_of_female_deaths', 'Breast_cancer_number_of_new_female_cases', 'Broadband_subscribers', 'Broadband_subscribers_per_100_people', 'CO2_emissions', 'CO2_intensity_of_economic_output', 'Capital_formation', 'Cell_phones_per_100_people', 'Cell_phones_total', 'Central_bank_discount_rate', 'Cervical_cancer_deaths_per_100_000_women', 'Cervical_cancer_new_cases_per_100_000_women', 'Cervical_cancer_number_of_female_deaths', 'Cervical_cancer_number_of_new_female_cases', 'Children_and_elderly', 'Children_out_of_school_primary', 'Children_out_of_school_primary_female', 'Children_out_of_school_primary_male', 'Children_per_woman', 'Coal_consumption', 'Coal_consumption_per_person', 'Coal_production', 'Coal_production_per_person', 'Colon_and_Rectum_cancer_deaths_per_100_000_men', 'Colon_and_Rectum_cancer_deaths_per_100_000_women', 'Colon_and_Rectum_cancer_new_cases_per_100_000_men', 'Colon_and_Rectum_cancer_new_cases_per_100_000_women', 'Colon_and_Rectum_cancer_number_of_female_deaths', 'Colon_and_Rectum_cancer_number_of_male_deaths', 'Colon_and_Rectum_cancer_number_of_new_female_cases', 'Colon_and_Rectum_cancer_number_of_new_male_cases', 'Consumer_price_index', 'Contraceptive_use', 'Deaths_from_TB_per_100_000_estimated', 'Debt_servicing_costs', 'Democracy_score', 'Electric_power_consumption', 'Electricity_generation', 'Electricity_generation_per_person', 'Energy_use', 'Expenditure_per_student_primary', 'Expenditure_per_student_secondary', 'Expenditure_per_student_tertiary', 'Exports_of_goods_and_services', 'Exports_unit_value', 'External_debt_total_DOD_current_USdollars', 'External_debt_total_pct_of_GNI', 'Female_labour_force', 'Fixed_line_and_mobile_phone_subscribers', 'Foreign_direct_investment_net_inflows', 'Foreign_direct_investment_net_outflows', 'Forest_area', 'Gross_capital_formation', 'HIV_infected', 'Health_expenditure_per_person', 'Health_expenditure_private', 'Health_expenditure_public_pct_of_GDP', 'Health_expenditure_public_pct_of_government_expenditure', 'Health_expenditure_public_pct_of_total_health_expenditure', 'Health_expenditure_total', 'High_technology_exports', 'Hydroelectricity_consumption', 'Hydroelectricity_consumption_per_person', 'Imports_of_goods_and_services', 'Imports_unit_value', 'Improved_sanitation_facilities_urban', 'Improved_water_source', 'Income_growth', 'Income_per_person', 'Income_share_held_by_lowest_20pct', 'Industry_contribution_to_economy', 'Inequality_index', 'Infant_mortality_rate', 'Infectious_TB_new_cases_per_100_000_estimated', 'Infectious_TB_new_cases_per_100_000_reported', 'Infectious_TB_treatment_completeness', 'Inflation_GDP_deflator', 'Internet_users', 'Life_expectancy_at_birth', 'Literacy_rate_adult_female', 'Literacy_rate_adult_male', 'Literacy_rate_adult_total', 'Literacy_rate_youth_female', 'Literacy_rate_youth_male', 'Literacy_rate_youth_total', 'Liver_cancer_deaths_per_100_000_men', 'Liver_cancer_deaths_per_100_000_women', 'Liver_cancer_new_cases_per_100_000_men', 'Liver_cancer_new_cases_per_100_000_women', 'Liver_cancer_number_of_female_deaths', 'Liver_cancer_number_of_male_deaths', 'Liver_cancer_number_of_new_female_cases', 'Liver_cancer_number_of_new_male_cases', 'Lung_cancer_deaths_per_100_000_men', 'Lung_cancer_deaths_per_100_000_women', 'Lung_cancer_new_cases_per_100_000_men', 'Lung_cancer_new_cases_per_100_000_women', 'Lung_cancer_number_of_female_deaths', 'Lung_cancer_number_of_male_deaths', 'Lung_cancer_number_of_new_female_cases', 'Lung_cancer_number_of_new_male_cases', 'Malaria_prevention_insecticide_treated_bed_nets_usage', 'Malaria_treatment', 'Malnutrition_weight_for_age', 'Market_value_of_listed_companies', 'Maternal_mortality', 'Math_achievement_4th_grade', 'Math_achievement_8th_grade', 'Measles_immunization', 'Medical_Doctors', 'Merchandise_trade', 'Military_expenditure', 'Natural_gas_consumption', 'Natural_gas_consumption_per_person', 'Natural_gas_production', 'Natural_gas_production_per_person', 'Natural_gas_proved_reserves', 'Natural_gas_proven_reserves_per_person', 'Net_barter_terms_of_trade', 'Nuclear_consumption', 'Nuclear_consumption_per_person', 'Number_of_deaths_from_TB_estimated', 'Number_of_existing_TB_cases_estimated', 'Oil_consumption', 'Oil_consumption_per_person', 'Oil_production', 'Oil_production_per_person', 'Oil_proved_reserves', 'Oil_proven_reserves_per_person', 'Old_version_of_Income_per_person', 'Patent_applications', 'Patents_granted', 'Patents_in_force', 'People_living_with_HIV', 'Personal_computers_per_100_people', 'Personal_computers_total', 'Population_growth', 'Population_in_urban_agglomerations_more_than_1_million', 'Population_total', 'Poverty_headcount_ratio_at_national_poverty_line', 'Present_value_of_debt', 'Primary_completion_rate_total', 'Primary_energy_consumption', 'Primary_energy_consumption_per_person', 'Primary_school_completion_pct_of_boys', 'Primary_school_completion_pct_of_girls', 'Prostate_cancer_deaths_per_100_000_men', 'Prostate_cancer_new_cases_per_100_000_men', 'Prostate_cancer_number_of_male_deaths', 'Prostate_cancer_number_of_new_male_cases', 'Pump_price_for_gasoline', 'Ratio_of_girls_to_boys_in_primary_and_secondary_education', 'Ratio_of_young_literate_females_to_males', 'Roads_paved', 'SO2_emissions_per_person', 'Services_contribution_to_economy', 'Stomach_cancer_deaths_per_100_000_men', 'Stomach_cancer_deaths_per_100_000_women', 'Stomach_cancer_new_cases_per_100_000_men', 'Stomach_cancer_new_cases_per_100_000_women', 'Stomach_cancer_number_of_female_deaths', 'Stomach_cancer_number_of_male_deaths', 'Stomach_cancer_number_of_new_female_cases', 'Stomach_cancer_number_of_new_male_cases', 'Sugar_per_person', 'Surface_area', 'Tax_revenue', 'Total_CO2_emissions', 'Total_income', 'Total_reserves', 'Trade_balance_goods_and_services', 'Under_five_mortality_from_CME', 'Under_five_mortality_from_IHME', 'Under_five_mortality_rate', 'Urban_population', 'Urban_population_growth', 'Urban_population_pct_of_total']\n"
     ]
    }
   ],
   "source": [
    "url_who = 'https://drive.google.com/uc?export=download&id=1d3Wb8DnQwjXXxeLGoUd-RewSuBD9qMAZ'\n",
    "df_who = pd.read_csv(url_who)\n",
    "print(list(df_who.columns))"
   ]
  },
  {
   "cell_type": "code",
   "execution_count": 31,
   "metadata": {},
   "outputs": [],
   "source": [
    "df_mp = df_who[[\n",
    "    'Country', 'Continent', 'Military_expenditure', 'Patents_granted',\n",
    "    'Personal_computers_per_100_people'\n",
    "]].dropna()"
   ]
  },
  {
   "cell_type": "markdown",
   "metadata": {},
   "source": [
    "# Simple Graph - Plotly Express (px)"
   ]
  },
  {
   "cell_type": "code",
   "execution_count": 77,
   "metadata": {},
   "outputs": [
    {
     "data": {
      "application/vnd.plotly.v1+json": {
       "config": {
        "plotlyServerURL": "https://plot.ly"
       },
       "data": [
        {
         "customdata": [
          [
           "Albania"
          ],
          [
           "Algeria"
          ],
          [
           "Argentina"
          ],
          [
           "Armenia"
          ],
          [
           "Australia"
          ],
          [
           "Austria"
          ],
          [
           "Azerbaijan"
          ],
          [
           "Bahrain"
          ],
          [
           "Bangladesh"
          ],
          [
           "Barbados"
          ],
          [
           "Belgium"
          ],
          [
           "Bolivia"
          ],
          [
           "Botswana"
          ],
          [
           "Brazil"
          ],
          [
           "Brunei Darussalam"
          ],
          [
           "Bulgaria"
          ],
          [
           "Burundi"
          ],
          [
           "Canada"
          ],
          [
           "Chile"
          ],
          [
           "China"
          ],
          [
           "Colombia"
          ],
          [
           "Croatia"
          ],
          [
           "Cyprus"
          ],
          [
           "Czech Republic"
          ],
          [
           "Denmark"
          ],
          [
           "Ecuador"
          ],
          [
           "Egypt"
          ],
          [
           "El Salvador"
          ],
          [
           "Estonia"
          ],
          [
           "Ethiopia"
          ],
          [
           "Finland"
          ],
          [
           "France"
          ],
          [
           "Gambia"
          ],
          [
           "Georgia"
          ],
          [
           "Germany"
          ],
          [
           "Ghana"
          ],
          [
           "Greece"
          ],
          [
           "Guatemala"
          ],
          [
           "Guyana"
          ],
          [
           "Honduras"
          ],
          [
           "Hungary"
          ],
          [
           "Iceland"
          ],
          [
           "India"
          ],
          [
           "Indonesia"
          ],
          [
           "Iran (Islamic Republic of)"
          ],
          [
           "Ireland"
          ],
          [
           "Israel"
          ],
          [
           "Italy"
          ],
          [
           "Jamaica"
          ],
          [
           "Japan"
          ],
          [
           "Jordan"
          ],
          [
           "Kenya"
          ],
          [
           "Korea, Rep."
          ],
          [
           "Kuwait"
          ],
          [
           "Kyrgyzstan"
          ],
          [
           "Latvia"
          ],
          [
           "Lithuania"
          ],
          [
           "Luxembourg"
          ],
          [
           "Macedonia"
          ],
          [
           "Madagascar"
          ],
          [
           "Malawi"
          ],
          [
           "Malaysia"
          ],
          [
           "Malta"
          ],
          [
           "Mauritius"
          ],
          [
           "Mexico"
          ],
          [
           "Moldova"
          ],
          [
           "Mongolia"
          ],
          [
           "Morocco"
          ],
          [
           "Namibia"
          ],
          [
           "Nepal"
          ],
          [
           "Netherlands"
          ],
          [
           "New Zealand"
          ],
          [
           "Nicaragua"
          ],
          [
           "Nigeria"
          ],
          [
           "Norway"
          ],
          [
           "Pakistan"
          ],
          [
           "Panama"
          ],
          [
           "Paraguay"
          ],
          [
           "Peru"
          ],
          [
           "Philippines"
          ],
          [
           "Poland"
          ],
          [
           "Portugal"
          ],
          [
           "Romania"
          ],
          [
           "Russia"
          ],
          [
           "Saudi Arabia"
          ],
          [
           "Seychelles"
          ],
          [
           "Singapore"
          ],
          [
           "Slovakia"
          ],
          [
           "Slovenia"
          ],
          [
           "South Africa"
          ],
          [
           "Spain"
          ],
          [
           "Sri Lanka"
          ],
          [
           "Sudan"
          ],
          [
           "Swaziland"
          ],
          [
           "Sweden"
          ],
          [
           "Switzerland"
          ],
          [
           "Syria"
          ],
          [
           "Tanzania"
          ],
          [
           "Thailand"
          ],
          [
           "Tunisia"
          ],
          [
           "Turkey"
          ],
          [
           "Uganda"
          ],
          [
           "Ukraine"
          ],
          [
           "United Kingdom"
          ],
          [
           "United States of America"
          ],
          [
           "Uruguay"
          ],
          [
           "Venezuela"
          ],
          [
           "Vietnam"
          ],
          [
           "Zambia"
          ],
          [
           "Zimbabwe"
          ]
         ],
         "hovertemplate": "Personal_computers_per_100_people=%{x}<br>Patents_granted=%{y}<br>Country=%{customdata[0]}<br>Military_expenditure=%{marker.color}<extra></extra>",
         "legendgroup": "",
         "marker": {
          "color": [
           1.4,
           2.87,
           1.04,
           2.72,
           1.78,
           0.88,
           2.37,
           3.02,
           1.16,
           0.83,
           1.13,
           1.62,
           3,
           1.42,
           2.61,
           2.35,
           6.22,
           1.15,
           3.7,
           1.97,
           3.71,
           1.58,
           1.38,
           1.77,
           1.34,
           2.39,
           2.83,
           0.63,
           1.49,
           3.01,
           1.4,
           2.48,
           0.48,
           3.59,
           1.37,
           0.75,
           3.25,
           0.33,
           0.79,
           0.59,
           1.44,
           0,
           2.75,
           1.19,
           4.72,
           0.57,
           9.65,
           1.89,
           0.57,
           0.97,
           5.33,
           1.66,
           2.57,
           4.84,
           3.07,
           1.71,
           1.19,
           0.81,
           2.18,
           1.07,
           0.54,
           2.27,
           0.69,
           0.2,
           0.42,
           0.34,
           1.29,
           3.92,
           3.01,
           2.12,
           1.52,
           1,
           0.7,
           0.68,
           1.62,
           4.15,
           0.98,
           0.75,
           1.37,
           0.88,
           1.94,
           2.26,
           1.97,
           4.07,
           8.05,
           1.74,
           4.68,
           1.74,
           1.5,
           1.47,
           1.05,
           2.6,
           2.24,
           1.94,
           1.54,
           0.95,
           4.62,
           1.07,
           1.15,
           1.63,
           2.84,
           2.3,
           2.32,
           2.7,
           4.07,
           1.32,
           1.11,
           2.65,
           2.25,
           0
          ],
          "coloraxis": "coloraxis",
          "symbol": "circle"
         },
         "mode": "markers",
         "name": "",
         "orientation": "v",
         "showlegend": false,
         "type": "scatter",
         "x": [
          1.2,
          0.9,
          8,
          5.3,
          68.9,
          57.6,
          1.8,
          16.9,
          1.2,
          12.5,
          34.7,
          2.3,
          4.7,
          10.7,
          8.5,
          5.9,
          0.5,
          69.8,
          13.9,
          4.1,
          5.5,
          19.1,
          30.9,
          21.6,
          65.5,
          5.5,
          3.3,
          4.5,
          47.4,
          0.3,
          48.2,
          48.7,
          1.6,
          3.8,
          48.5,
          0.5,
          9,
          1.8,
          3.5,
          1.6,
          14.6,
          47.1,
          1.2,
          1.4,
          10.5,
          49.7,
          73.4,
          31.3,
          6.2,
          54.1,
          5.3,
          1.4,
          54.5,
          17.6,
          1.7,
          21.9,
          15.5,
          62.1,
          6.8,
          0.5,
          0.2,
          19.2,
          31.5,
          16.2,
          10.7,
          2.6,
          11.9,
          2.1,
          10.9,
          0.5,
          68.5,
          49.3,
          3.5,
          0.7,
          57.8,
          0.4,
          4.1,
          5.9,
          9.7,
          4.5,
          19.1,
          13.3,
          11.3,
          13.2,
          34,
          13.88,
          62.2,
          29.6,
          35.5,
          8.3,
          25.4,
          2.7,
          1.8,
          3.3,
          76.1,
          82.3,
          3.3,
          0.7,
          6,
          4.8,
          5.1,
          0.5,
          2.8,
          60,
          76.2,
          13.3,
          8.2,
          1.3,
          1,
          8.4
         ],
         "xaxis": "x",
         "y": [
          502,
          111,
          1587,
          151,
          14496,
          20390,
          19,
          26,
          140,
          3,
          20785,
          47,
          33,
          4740,
          251,
          376,
          5,
          12951,
          601,
          21473,
          372,
          286,
          4332,
          1805,
          16469,
          21,
          757,
          61,
          358,
          1,
          11589,
          53415,
          53,
          256,
          61153,
          65,
          13235,
          6,
          3,
          146,
          1386,
          42,
          2160,
          631,
          881,
          14203,
          1474,
          34899,
          206,
          120018,
          58,
          100,
          45298,
          107,
          65,
          1650,
          1918,
          12176,
          679,
          15,
          2,
          786,
          125,
          3,
          6616,
          230,
          163,
          327,
          102,
          1,
          27482,
          2549,
          136,
          170,
          2448,
          350,
          15,
          26,
          308,
          566,
          2271,
          13840,
          2357,
          18114,
          25,
          6,
          7583,
          803,
          2802,
          5453,
          26626,
          160,
          79,
          70,
          24546,
          21852,
          62,
          8,
          541,
          146,
          1885,
          92,
          11670,
          52593,
          167334,
          55,
          756,
          727,
          63,
          78
         ],
         "yaxis": "y"
        }
       ],
       "layout": {
        "coloraxis": {
         "colorbar": {
          "title": {
           "text": "Military_expenditure"
          }
         },
         "colorscale": [
          [
           0,
           "#0d0887"
          ],
          [
           0.1111111111111111,
           "#46039f"
          ],
          [
           0.2222222222222222,
           "#7201a8"
          ],
          [
           0.3333333333333333,
           "#9c179e"
          ],
          [
           0.4444444444444444,
           "#bd3786"
          ],
          [
           0.5555555555555556,
           "#d8576b"
          ],
          [
           0.6666666666666666,
           "#ed7953"
          ],
          [
           0.7777777777777778,
           "#fb9f3a"
          ],
          [
           0.8888888888888888,
           "#fdca26"
          ],
          [
           1,
           "#f0f921"
          ]
         ]
        },
        "legend": {
         "tracegroupgap": 0
        },
        "margin": {
         "t": 60
        },
        "template": {
         "data": {
          "bar": [
           {
            "error_x": {
             "color": "#2a3f5f"
            },
            "error_y": {
             "color": "#2a3f5f"
            },
            "marker": {
             "line": {
              "color": "#E5ECF6",
              "width": 0.5
             },
             "pattern": {
              "fillmode": "overlay",
              "size": 10,
              "solidity": 0.2
             }
            },
            "type": "bar"
           }
          ],
          "barpolar": [
           {
            "marker": {
             "line": {
              "color": "#E5ECF6",
              "width": 0.5
             },
             "pattern": {
              "fillmode": "overlay",
              "size": 10,
              "solidity": 0.2
             }
            },
            "type": "barpolar"
           }
          ],
          "carpet": [
           {
            "aaxis": {
             "endlinecolor": "#2a3f5f",
             "gridcolor": "white",
             "linecolor": "white",
             "minorgridcolor": "white",
             "startlinecolor": "#2a3f5f"
            },
            "baxis": {
             "endlinecolor": "#2a3f5f",
             "gridcolor": "white",
             "linecolor": "white",
             "minorgridcolor": "white",
             "startlinecolor": "#2a3f5f"
            },
            "type": "carpet"
           }
          ],
          "choropleth": [
           {
            "colorbar": {
             "outlinewidth": 0,
             "ticks": ""
            },
            "type": "choropleth"
           }
          ],
          "contour": [
           {
            "colorbar": {
             "outlinewidth": 0,
             "ticks": ""
            },
            "colorscale": [
             [
              0,
              "#0d0887"
             ],
             [
              0.1111111111111111,
              "#46039f"
             ],
             [
              0.2222222222222222,
              "#7201a8"
             ],
             [
              0.3333333333333333,
              "#9c179e"
             ],
             [
              0.4444444444444444,
              "#bd3786"
             ],
             [
              0.5555555555555556,
              "#d8576b"
             ],
             [
              0.6666666666666666,
              "#ed7953"
             ],
             [
              0.7777777777777778,
              "#fb9f3a"
             ],
             [
              0.8888888888888888,
              "#fdca26"
             ],
             [
              1,
              "#f0f921"
             ]
            ],
            "type": "contour"
           }
          ],
          "contourcarpet": [
           {
            "colorbar": {
             "outlinewidth": 0,
             "ticks": ""
            },
            "type": "contourcarpet"
           }
          ],
          "heatmap": [
           {
            "colorbar": {
             "outlinewidth": 0,
             "ticks": ""
            },
            "colorscale": [
             [
              0,
              "#0d0887"
             ],
             [
              0.1111111111111111,
              "#46039f"
             ],
             [
              0.2222222222222222,
              "#7201a8"
             ],
             [
              0.3333333333333333,
              "#9c179e"
             ],
             [
              0.4444444444444444,
              "#bd3786"
             ],
             [
              0.5555555555555556,
              "#d8576b"
             ],
             [
              0.6666666666666666,
              "#ed7953"
             ],
             [
              0.7777777777777778,
              "#fb9f3a"
             ],
             [
              0.8888888888888888,
              "#fdca26"
             ],
             [
              1,
              "#f0f921"
             ]
            ],
            "type": "heatmap"
           }
          ],
          "heatmapgl": [
           {
            "colorbar": {
             "outlinewidth": 0,
             "ticks": ""
            },
            "colorscale": [
             [
              0,
              "#0d0887"
             ],
             [
              0.1111111111111111,
              "#46039f"
             ],
             [
              0.2222222222222222,
              "#7201a8"
             ],
             [
              0.3333333333333333,
              "#9c179e"
             ],
             [
              0.4444444444444444,
              "#bd3786"
             ],
             [
              0.5555555555555556,
              "#d8576b"
             ],
             [
              0.6666666666666666,
              "#ed7953"
             ],
             [
              0.7777777777777778,
              "#fb9f3a"
             ],
             [
              0.8888888888888888,
              "#fdca26"
             ],
             [
              1,
              "#f0f921"
             ]
            ],
            "type": "heatmapgl"
           }
          ],
          "histogram": [
           {
            "marker": {
             "pattern": {
              "fillmode": "overlay",
              "size": 10,
              "solidity": 0.2
             }
            },
            "type": "histogram"
           }
          ],
          "histogram2d": [
           {
            "colorbar": {
             "outlinewidth": 0,
             "ticks": ""
            },
            "colorscale": [
             [
              0,
              "#0d0887"
             ],
             [
              0.1111111111111111,
              "#46039f"
             ],
             [
              0.2222222222222222,
              "#7201a8"
             ],
             [
              0.3333333333333333,
              "#9c179e"
             ],
             [
              0.4444444444444444,
              "#bd3786"
             ],
             [
              0.5555555555555556,
              "#d8576b"
             ],
             [
              0.6666666666666666,
              "#ed7953"
             ],
             [
              0.7777777777777778,
              "#fb9f3a"
             ],
             [
              0.8888888888888888,
              "#fdca26"
             ],
             [
              1,
              "#f0f921"
             ]
            ],
            "type": "histogram2d"
           }
          ],
          "histogram2dcontour": [
           {
            "colorbar": {
             "outlinewidth": 0,
             "ticks": ""
            },
            "colorscale": [
             [
              0,
              "#0d0887"
             ],
             [
              0.1111111111111111,
              "#46039f"
             ],
             [
              0.2222222222222222,
              "#7201a8"
             ],
             [
              0.3333333333333333,
              "#9c179e"
             ],
             [
              0.4444444444444444,
              "#bd3786"
             ],
             [
              0.5555555555555556,
              "#d8576b"
             ],
             [
              0.6666666666666666,
              "#ed7953"
             ],
             [
              0.7777777777777778,
              "#fb9f3a"
             ],
             [
              0.8888888888888888,
              "#fdca26"
             ],
             [
              1,
              "#f0f921"
             ]
            ],
            "type": "histogram2dcontour"
           }
          ],
          "mesh3d": [
           {
            "colorbar": {
             "outlinewidth": 0,
             "ticks": ""
            },
            "type": "mesh3d"
           }
          ],
          "parcoords": [
           {
            "line": {
             "colorbar": {
              "outlinewidth": 0,
              "ticks": ""
             }
            },
            "type": "parcoords"
           }
          ],
          "pie": [
           {
            "automargin": true,
            "type": "pie"
           }
          ],
          "scatter": [
           {
            "fillpattern": {
             "fillmode": "overlay",
             "size": 10,
             "solidity": 0.2
            },
            "type": "scatter"
           }
          ],
          "scatter3d": [
           {
            "line": {
             "colorbar": {
              "outlinewidth": 0,
              "ticks": ""
             }
            },
            "marker": {
             "colorbar": {
              "outlinewidth": 0,
              "ticks": ""
             }
            },
            "type": "scatter3d"
           }
          ],
          "scattercarpet": [
           {
            "marker": {
             "colorbar": {
              "outlinewidth": 0,
              "ticks": ""
             }
            },
            "type": "scattercarpet"
           }
          ],
          "scattergeo": [
           {
            "marker": {
             "colorbar": {
              "outlinewidth": 0,
              "ticks": ""
             }
            },
            "type": "scattergeo"
           }
          ],
          "scattergl": [
           {
            "marker": {
             "colorbar": {
              "outlinewidth": 0,
              "ticks": ""
             }
            },
            "type": "scattergl"
           }
          ],
          "scattermapbox": [
           {
            "marker": {
             "colorbar": {
              "outlinewidth": 0,
              "ticks": ""
             }
            },
            "type": "scattermapbox"
           }
          ],
          "scatterpolar": [
           {
            "marker": {
             "colorbar": {
              "outlinewidth": 0,
              "ticks": ""
             }
            },
            "type": "scatterpolar"
           }
          ],
          "scatterpolargl": [
           {
            "marker": {
             "colorbar": {
              "outlinewidth": 0,
              "ticks": ""
             }
            },
            "type": "scatterpolargl"
           }
          ],
          "scatterternary": [
           {
            "marker": {
             "colorbar": {
              "outlinewidth": 0,
              "ticks": ""
             }
            },
            "type": "scatterternary"
           }
          ],
          "surface": [
           {
            "colorbar": {
             "outlinewidth": 0,
             "ticks": ""
            },
            "colorscale": [
             [
              0,
              "#0d0887"
             ],
             [
              0.1111111111111111,
              "#46039f"
             ],
             [
              0.2222222222222222,
              "#7201a8"
             ],
             [
              0.3333333333333333,
              "#9c179e"
             ],
             [
              0.4444444444444444,
              "#bd3786"
             ],
             [
              0.5555555555555556,
              "#d8576b"
             ],
             [
              0.6666666666666666,
              "#ed7953"
             ],
             [
              0.7777777777777778,
              "#fb9f3a"
             ],
             [
              0.8888888888888888,
              "#fdca26"
             ],
             [
              1,
              "#f0f921"
             ]
            ],
            "type": "surface"
           }
          ],
          "table": [
           {
            "cells": {
             "fill": {
              "color": "#EBF0F8"
             },
             "line": {
              "color": "white"
             }
            },
            "header": {
             "fill": {
              "color": "#C8D4E3"
             },
             "line": {
              "color": "white"
             }
            },
            "type": "table"
           }
          ]
         },
         "layout": {
          "annotationdefaults": {
           "arrowcolor": "#2a3f5f",
           "arrowhead": 0,
           "arrowwidth": 1
          },
          "autotypenumbers": "strict",
          "coloraxis": {
           "colorbar": {
            "outlinewidth": 0,
            "ticks": ""
           }
          },
          "colorscale": {
           "diverging": [
            [
             0,
             "#8e0152"
            ],
            [
             0.1,
             "#c51b7d"
            ],
            [
             0.2,
             "#de77ae"
            ],
            [
             0.3,
             "#f1b6da"
            ],
            [
             0.4,
             "#fde0ef"
            ],
            [
             0.5,
             "#f7f7f7"
            ],
            [
             0.6,
             "#e6f5d0"
            ],
            [
             0.7,
             "#b8e186"
            ],
            [
             0.8,
             "#7fbc41"
            ],
            [
             0.9,
             "#4d9221"
            ],
            [
             1,
             "#276419"
            ]
           ],
           "sequential": [
            [
             0,
             "#0d0887"
            ],
            [
             0.1111111111111111,
             "#46039f"
            ],
            [
             0.2222222222222222,
             "#7201a8"
            ],
            [
             0.3333333333333333,
             "#9c179e"
            ],
            [
             0.4444444444444444,
             "#bd3786"
            ],
            [
             0.5555555555555556,
             "#d8576b"
            ],
            [
             0.6666666666666666,
             "#ed7953"
            ],
            [
             0.7777777777777778,
             "#fb9f3a"
            ],
            [
             0.8888888888888888,
             "#fdca26"
            ],
            [
             1,
             "#f0f921"
            ]
           ],
           "sequentialminus": [
            [
             0,
             "#0d0887"
            ],
            [
             0.1111111111111111,
             "#46039f"
            ],
            [
             0.2222222222222222,
             "#7201a8"
            ],
            [
             0.3333333333333333,
             "#9c179e"
            ],
            [
             0.4444444444444444,
             "#bd3786"
            ],
            [
             0.5555555555555556,
             "#d8576b"
            ],
            [
             0.6666666666666666,
             "#ed7953"
            ],
            [
             0.7777777777777778,
             "#fb9f3a"
            ],
            [
             0.8888888888888888,
             "#fdca26"
            ],
            [
             1,
             "#f0f921"
            ]
           ]
          },
          "colorway": [
           "#636efa",
           "#EF553B",
           "#00cc96",
           "#ab63fa",
           "#FFA15A",
           "#19d3f3",
           "#FF6692",
           "#B6E880",
           "#FF97FF",
           "#FECB52"
          ],
          "font": {
           "color": "#2a3f5f"
          },
          "geo": {
           "bgcolor": "white",
           "lakecolor": "white",
           "landcolor": "#E5ECF6",
           "showlakes": true,
           "showland": true,
           "subunitcolor": "white"
          },
          "hoverlabel": {
           "align": "left"
          },
          "hovermode": "closest",
          "mapbox": {
           "style": "light"
          },
          "paper_bgcolor": "white",
          "plot_bgcolor": "#E5ECF6",
          "polar": {
           "angularaxis": {
            "gridcolor": "white",
            "linecolor": "white",
            "ticks": ""
           },
           "bgcolor": "#E5ECF6",
           "radialaxis": {
            "gridcolor": "white",
            "linecolor": "white",
            "ticks": ""
           }
          },
          "scene": {
           "xaxis": {
            "backgroundcolor": "#E5ECF6",
            "gridcolor": "white",
            "gridwidth": 2,
            "linecolor": "white",
            "showbackground": true,
            "ticks": "",
            "zerolinecolor": "white"
           },
           "yaxis": {
            "backgroundcolor": "#E5ECF6",
            "gridcolor": "white",
            "gridwidth": 2,
            "linecolor": "white",
            "showbackground": true,
            "ticks": "",
            "zerolinecolor": "white"
           },
           "zaxis": {
            "backgroundcolor": "#E5ECF6",
            "gridcolor": "white",
            "gridwidth": 2,
            "linecolor": "white",
            "showbackground": true,
            "ticks": "",
            "zerolinecolor": "white"
           }
          },
          "shapedefaults": {
           "line": {
            "color": "#2a3f5f"
           }
          },
          "ternary": {
           "aaxis": {
            "gridcolor": "white",
            "linecolor": "white",
            "ticks": ""
           },
           "baxis": {
            "gridcolor": "white",
            "linecolor": "white",
            "ticks": ""
           },
           "bgcolor": "#E5ECF6",
           "caxis": {
            "gridcolor": "white",
            "linecolor": "white",
            "ticks": ""
           }
          },
          "title": {
           "x": 0.05
          },
          "xaxis": {
           "automargin": true,
           "gridcolor": "white",
           "linecolor": "white",
           "ticks": "",
           "title": {
            "standoff": 15
           },
           "zerolinecolor": "white",
           "zerolinewidth": 2
          },
          "yaxis": {
           "automargin": true,
           "gridcolor": "white",
           "linecolor": "white",
           "ticks": "",
           "title": {
            "standoff": 15
           },
           "zerolinecolor": "white",
           "zerolinewidth": 2
          }
         }
        },
        "xaxis": {
         "anchor": "y",
         "domain": [
          0,
          1
         ],
         "title": {
          "text": "Personal_computers_per_100_people"
         }
        },
        "yaxis": {
         "anchor": "x",
         "domain": [
          0,
          1
         ],
         "title": {
          "text": "Patents_granted"
         }
        }
       }
      },
      "text/html": [
       "<div>                            <div id=\"b6054915-7ece-44e5-9f22-825178de68c2\" class=\"plotly-graph-div\" style=\"height:525px; width:100%;\"></div>            <script type=\"text/javascript\">                require([\"plotly\"], function(Plotly) {                    window.PLOTLYENV=window.PLOTLYENV || {};                                    if (document.getElementById(\"b6054915-7ece-44e5-9f22-825178de68c2\")) {                    Plotly.newPlot(                        \"b6054915-7ece-44e5-9f22-825178de68c2\",                        [{\"customdata\":[[\"Albania\"],[\"Algeria\"],[\"Argentina\"],[\"Armenia\"],[\"Australia\"],[\"Austria\"],[\"Azerbaijan\"],[\"Bahrain\"],[\"Bangladesh\"],[\"Barbados\"],[\"Belgium\"],[\"Bolivia\"],[\"Botswana\"],[\"Brazil\"],[\"Brunei Darussalam\"],[\"Bulgaria\"],[\"Burundi\"],[\"Canada\"],[\"Chile\"],[\"China\"],[\"Colombia\"],[\"Croatia\"],[\"Cyprus\"],[\"Czech Republic\"],[\"Denmark\"],[\"Ecuador\"],[\"Egypt\"],[\"El Salvador\"],[\"Estonia\"],[\"Ethiopia\"],[\"Finland\"],[\"France\"],[\"Gambia\"],[\"Georgia\"],[\"Germany\"],[\"Ghana\"],[\"Greece\"],[\"Guatemala\"],[\"Guyana\"],[\"Honduras\"],[\"Hungary\"],[\"Iceland\"],[\"India\"],[\"Indonesia\"],[\"Iran (Islamic Republic of)\"],[\"Ireland\"],[\"Israel\"],[\"Italy\"],[\"Jamaica\"],[\"Japan\"],[\"Jordan\"],[\"Kenya\"],[\"Korea, Rep.\"],[\"Kuwait\"],[\"Kyrgyzstan\"],[\"Latvia\"],[\"Lithuania\"],[\"Luxembourg\"],[\"Macedonia\"],[\"Madagascar\"],[\"Malawi\"],[\"Malaysia\"],[\"Malta\"],[\"Mauritius\"],[\"Mexico\"],[\"Moldova\"],[\"Mongolia\"],[\"Morocco\"],[\"Namibia\"],[\"Nepal\"],[\"Netherlands\"],[\"New Zealand\"],[\"Nicaragua\"],[\"Nigeria\"],[\"Norway\"],[\"Pakistan\"],[\"Panama\"],[\"Paraguay\"],[\"Peru\"],[\"Philippines\"],[\"Poland\"],[\"Portugal\"],[\"Romania\"],[\"Russia\"],[\"Saudi Arabia\"],[\"Seychelles\"],[\"Singapore\"],[\"Slovakia\"],[\"Slovenia\"],[\"South Africa\"],[\"Spain\"],[\"Sri Lanka\"],[\"Sudan\"],[\"Swaziland\"],[\"Sweden\"],[\"Switzerland\"],[\"Syria\"],[\"Tanzania\"],[\"Thailand\"],[\"Tunisia\"],[\"Turkey\"],[\"Uganda\"],[\"Ukraine\"],[\"United Kingdom\"],[\"United States of America\"],[\"Uruguay\"],[\"Venezuela\"],[\"Vietnam\"],[\"Zambia\"],[\"Zimbabwe\"]],\"hovertemplate\":\"Personal_computers_per_100_people=%{x}\\u003cbr\\u003ePatents_granted=%{y}\\u003cbr\\u003eCountry=%{customdata[0]}\\u003cbr\\u003eMilitary_expenditure=%{marker.color}\\u003cextra\\u003e\\u003c\\u002fextra\\u003e\",\"legendgroup\":\"\",\"marker\":{\"color\":[1.4,2.87,1.04,2.72,1.78,0.88,2.37,3.02,1.16,0.83,1.13,1.62,3.0,1.42,2.61,2.35,6.22,1.15,3.7,1.97,3.71,1.58,1.38,1.77,1.34,2.39,2.83,0.63,1.49,3.01,1.4,2.48,0.48,3.59,1.37,0.75,3.25,0.33,0.79,0.59,1.44,0.0,2.75,1.19,4.72,0.57,9.65,1.89,0.57,0.97,5.33,1.66,2.57,4.84,3.07,1.71,1.19,0.81,2.18,1.07,0.54,2.27,0.69,0.2,0.42,0.34,1.29,3.92,3.01,2.12,1.52,1.0,0.7,0.68,1.62,4.15,0.98,0.75,1.37,0.88,1.94,2.26,1.97,4.07,8.05,1.74,4.68,1.74,1.5,1.47,1.05,2.6,2.24,1.94,1.54,0.95,4.62,1.07,1.15,1.63,2.84,2.3,2.32,2.7,4.07,1.32,1.11,2.65,2.25,0.0],\"coloraxis\":\"coloraxis\",\"symbol\":\"circle\"},\"mode\":\"markers\",\"name\":\"\",\"orientation\":\"v\",\"showlegend\":false,\"x\":[1.2,0.9,8.0,5.3,68.9,57.6,1.8,16.9,1.2,12.5,34.7,2.3,4.7,10.7,8.5,5.9,0.5,69.8,13.9,4.1,5.5,19.1,30.9,21.6,65.5,5.5,3.3,4.5,47.4,0.3,48.2,48.7,1.6,3.8,48.5,0.5,9.0,1.8,3.5,1.6,14.6,47.1,1.2,1.4,10.5,49.7,73.4,31.3,6.2,54.1,5.3,1.4,54.5,17.6,1.7,21.9,15.5,62.1,6.8,0.5,0.2,19.2,31.5,16.2,10.7,2.6,11.9,2.1,10.9,0.5,68.5,49.3,3.5,0.7,57.8,0.4,4.1,5.9,9.7,4.5,19.1,13.3,11.3,13.2,34.0,13.88,62.2,29.6,35.5,8.3,25.4,2.7,1.8,3.3,76.1,82.3,3.3,0.7,6.0,4.8,5.1,0.5,2.8,60.0,76.2,13.3,8.2,1.3,1.0,8.4],\"xaxis\":\"x\",\"y\":[502.0,111.0,1587.0,151.0,14496.0,20390.0,19.0,26.0,140.0,3.0,20785.0,47.0,33.0,4740.0,251.0,376.0,5.0,12951.0,601.0,21473.0,372.0,286.0,4332.0,1805.0,16469.0,21.0,757.0,61.0,358.0,1.0,11589.0,53415.0,53.0,256.0,61153.0,65.0,13235.0,6.0,3.0,146.0,1386.0,42.0,2160.0,631.0,881.0,14203.0,1474.0,34899.0,206.0,120018.0,58.0,100.0,45298.0,107.0,65.0,1650.0,1918.0,12176.0,679.0,15.0,2.0,786.0,125.0,3.0,6616.0,230.0,163.0,327.0,102.0,1.0,27482.0,2549.0,136.0,170.0,2448.0,350.0,15.0,26.0,308.0,566.0,2271.0,13840.0,2357.0,18114.0,25.0,6.0,7583.0,803.0,2802.0,5453.0,26626.0,160.0,79.0,70.0,24546.0,21852.0,62.0,8.0,541.0,146.0,1885.0,92.0,11670.0,52593.0,167334.0,55.0,756.0,727.0,63.0,78.0],\"yaxis\":\"y\",\"type\":\"scatter\"}],                        {\"template\":{\"data\":{\"histogram2dcontour\":[{\"type\":\"histogram2dcontour\",\"colorbar\":{\"outlinewidth\":0,\"ticks\":\"\"},\"colorscale\":[[0.0,\"#0d0887\"],[0.1111111111111111,\"#46039f\"],[0.2222222222222222,\"#7201a8\"],[0.3333333333333333,\"#9c179e\"],[0.4444444444444444,\"#bd3786\"],[0.5555555555555556,\"#d8576b\"],[0.6666666666666666,\"#ed7953\"],[0.7777777777777778,\"#fb9f3a\"],[0.8888888888888888,\"#fdca26\"],[1.0,\"#f0f921\"]]}],\"choropleth\":[{\"type\":\"choropleth\",\"colorbar\":{\"outlinewidth\":0,\"ticks\":\"\"}}],\"histogram2d\":[{\"type\":\"histogram2d\",\"colorbar\":{\"outlinewidth\":0,\"ticks\":\"\"},\"colorscale\":[[0.0,\"#0d0887\"],[0.1111111111111111,\"#46039f\"],[0.2222222222222222,\"#7201a8\"],[0.3333333333333333,\"#9c179e\"],[0.4444444444444444,\"#bd3786\"],[0.5555555555555556,\"#d8576b\"],[0.6666666666666666,\"#ed7953\"],[0.7777777777777778,\"#fb9f3a\"],[0.8888888888888888,\"#fdca26\"],[1.0,\"#f0f921\"]]}],\"heatmap\":[{\"type\":\"heatmap\",\"colorbar\":{\"outlinewidth\":0,\"ticks\":\"\"},\"colorscale\":[[0.0,\"#0d0887\"],[0.1111111111111111,\"#46039f\"],[0.2222222222222222,\"#7201a8\"],[0.3333333333333333,\"#9c179e\"],[0.4444444444444444,\"#bd3786\"],[0.5555555555555556,\"#d8576b\"],[0.6666666666666666,\"#ed7953\"],[0.7777777777777778,\"#fb9f3a\"],[0.8888888888888888,\"#fdca26\"],[1.0,\"#f0f921\"]]}],\"heatmapgl\":[{\"type\":\"heatmapgl\",\"colorbar\":{\"outlinewidth\":0,\"ticks\":\"\"},\"colorscale\":[[0.0,\"#0d0887\"],[0.1111111111111111,\"#46039f\"],[0.2222222222222222,\"#7201a8\"],[0.3333333333333333,\"#9c179e\"],[0.4444444444444444,\"#bd3786\"],[0.5555555555555556,\"#d8576b\"],[0.6666666666666666,\"#ed7953\"],[0.7777777777777778,\"#fb9f3a\"],[0.8888888888888888,\"#fdca26\"],[1.0,\"#f0f921\"]]}],\"contourcarpet\":[{\"type\":\"contourcarpet\",\"colorbar\":{\"outlinewidth\":0,\"ticks\":\"\"}}],\"contour\":[{\"type\":\"contour\",\"colorbar\":{\"outlinewidth\":0,\"ticks\":\"\"},\"colorscale\":[[0.0,\"#0d0887\"],[0.1111111111111111,\"#46039f\"],[0.2222222222222222,\"#7201a8\"],[0.3333333333333333,\"#9c179e\"],[0.4444444444444444,\"#bd3786\"],[0.5555555555555556,\"#d8576b\"],[0.6666666666666666,\"#ed7953\"],[0.7777777777777778,\"#fb9f3a\"],[0.8888888888888888,\"#fdca26\"],[1.0,\"#f0f921\"]]}],\"surface\":[{\"type\":\"surface\",\"colorbar\":{\"outlinewidth\":0,\"ticks\":\"\"},\"colorscale\":[[0.0,\"#0d0887\"],[0.1111111111111111,\"#46039f\"],[0.2222222222222222,\"#7201a8\"],[0.3333333333333333,\"#9c179e\"],[0.4444444444444444,\"#bd3786\"],[0.5555555555555556,\"#d8576b\"],[0.6666666666666666,\"#ed7953\"],[0.7777777777777778,\"#fb9f3a\"],[0.8888888888888888,\"#fdca26\"],[1.0,\"#f0f921\"]]}],\"mesh3d\":[{\"type\":\"mesh3d\",\"colorbar\":{\"outlinewidth\":0,\"ticks\":\"\"}}],\"scatter\":[{\"fillpattern\":{\"fillmode\":\"overlay\",\"size\":10,\"solidity\":0.2},\"type\":\"scatter\"}],\"parcoords\":[{\"type\":\"parcoords\",\"line\":{\"colorbar\":{\"outlinewidth\":0,\"ticks\":\"\"}}}],\"scatterpolargl\":[{\"type\":\"scatterpolargl\",\"marker\":{\"colorbar\":{\"outlinewidth\":0,\"ticks\":\"\"}}}],\"bar\":[{\"error_x\":{\"color\":\"#2a3f5f\"},\"error_y\":{\"color\":\"#2a3f5f\"},\"marker\":{\"line\":{\"color\":\"#E5ECF6\",\"width\":0.5},\"pattern\":{\"fillmode\":\"overlay\",\"size\":10,\"solidity\":0.2}},\"type\":\"bar\"}],\"scattergeo\":[{\"type\":\"scattergeo\",\"marker\":{\"colorbar\":{\"outlinewidth\":0,\"ticks\":\"\"}}}],\"scatterpolar\":[{\"type\":\"scatterpolar\",\"marker\":{\"colorbar\":{\"outlinewidth\":0,\"ticks\":\"\"}}}],\"histogram\":[{\"marker\":{\"pattern\":{\"fillmode\":\"overlay\",\"size\":10,\"solidity\":0.2}},\"type\":\"histogram\"}],\"scattergl\":[{\"type\":\"scattergl\",\"marker\":{\"colorbar\":{\"outlinewidth\":0,\"ticks\":\"\"}}}],\"scatter3d\":[{\"type\":\"scatter3d\",\"line\":{\"colorbar\":{\"outlinewidth\":0,\"ticks\":\"\"}},\"marker\":{\"colorbar\":{\"outlinewidth\":0,\"ticks\":\"\"}}}],\"scattermapbox\":[{\"type\":\"scattermapbox\",\"marker\":{\"colorbar\":{\"outlinewidth\":0,\"ticks\":\"\"}}}],\"scatterternary\":[{\"type\":\"scatterternary\",\"marker\":{\"colorbar\":{\"outlinewidth\":0,\"ticks\":\"\"}}}],\"scattercarpet\":[{\"type\":\"scattercarpet\",\"marker\":{\"colorbar\":{\"outlinewidth\":0,\"ticks\":\"\"}}}],\"carpet\":[{\"aaxis\":{\"endlinecolor\":\"#2a3f5f\",\"gridcolor\":\"white\",\"linecolor\":\"white\",\"minorgridcolor\":\"white\",\"startlinecolor\":\"#2a3f5f\"},\"baxis\":{\"endlinecolor\":\"#2a3f5f\",\"gridcolor\":\"white\",\"linecolor\":\"white\",\"minorgridcolor\":\"white\",\"startlinecolor\":\"#2a3f5f\"},\"type\":\"carpet\"}],\"table\":[{\"cells\":{\"fill\":{\"color\":\"#EBF0F8\"},\"line\":{\"color\":\"white\"}},\"header\":{\"fill\":{\"color\":\"#C8D4E3\"},\"line\":{\"color\":\"white\"}},\"type\":\"table\"}],\"barpolar\":[{\"marker\":{\"line\":{\"color\":\"#E5ECF6\",\"width\":0.5},\"pattern\":{\"fillmode\":\"overlay\",\"size\":10,\"solidity\":0.2}},\"type\":\"barpolar\"}],\"pie\":[{\"automargin\":true,\"type\":\"pie\"}]},\"layout\":{\"autotypenumbers\":\"strict\",\"colorway\":[\"#636efa\",\"#EF553B\",\"#00cc96\",\"#ab63fa\",\"#FFA15A\",\"#19d3f3\",\"#FF6692\",\"#B6E880\",\"#FF97FF\",\"#FECB52\"],\"font\":{\"color\":\"#2a3f5f\"},\"hovermode\":\"closest\",\"hoverlabel\":{\"align\":\"left\"},\"paper_bgcolor\":\"white\",\"plot_bgcolor\":\"#E5ECF6\",\"polar\":{\"bgcolor\":\"#E5ECF6\",\"angularaxis\":{\"gridcolor\":\"white\",\"linecolor\":\"white\",\"ticks\":\"\"},\"radialaxis\":{\"gridcolor\":\"white\",\"linecolor\":\"white\",\"ticks\":\"\"}},\"ternary\":{\"bgcolor\":\"#E5ECF6\",\"aaxis\":{\"gridcolor\":\"white\",\"linecolor\":\"white\",\"ticks\":\"\"},\"baxis\":{\"gridcolor\":\"white\",\"linecolor\":\"white\",\"ticks\":\"\"},\"caxis\":{\"gridcolor\":\"white\",\"linecolor\":\"white\",\"ticks\":\"\"}},\"coloraxis\":{\"colorbar\":{\"outlinewidth\":0,\"ticks\":\"\"}},\"colorscale\":{\"sequential\":[[0.0,\"#0d0887\"],[0.1111111111111111,\"#46039f\"],[0.2222222222222222,\"#7201a8\"],[0.3333333333333333,\"#9c179e\"],[0.4444444444444444,\"#bd3786\"],[0.5555555555555556,\"#d8576b\"],[0.6666666666666666,\"#ed7953\"],[0.7777777777777778,\"#fb9f3a\"],[0.8888888888888888,\"#fdca26\"],[1.0,\"#f0f921\"]],\"sequentialminus\":[[0.0,\"#0d0887\"],[0.1111111111111111,\"#46039f\"],[0.2222222222222222,\"#7201a8\"],[0.3333333333333333,\"#9c179e\"],[0.4444444444444444,\"#bd3786\"],[0.5555555555555556,\"#d8576b\"],[0.6666666666666666,\"#ed7953\"],[0.7777777777777778,\"#fb9f3a\"],[0.8888888888888888,\"#fdca26\"],[1.0,\"#f0f921\"]],\"diverging\":[[0,\"#8e0152\"],[0.1,\"#c51b7d\"],[0.2,\"#de77ae\"],[0.3,\"#f1b6da\"],[0.4,\"#fde0ef\"],[0.5,\"#f7f7f7\"],[0.6,\"#e6f5d0\"],[0.7,\"#b8e186\"],[0.8,\"#7fbc41\"],[0.9,\"#4d9221\"],[1,\"#276419\"]]},\"xaxis\":{\"gridcolor\":\"white\",\"linecolor\":\"white\",\"ticks\":\"\",\"title\":{\"standoff\":15},\"zerolinecolor\":\"white\",\"automargin\":true,\"zerolinewidth\":2},\"yaxis\":{\"gridcolor\":\"white\",\"linecolor\":\"white\",\"ticks\":\"\",\"title\":{\"standoff\":15},\"zerolinecolor\":\"white\",\"automargin\":true,\"zerolinewidth\":2},\"scene\":{\"xaxis\":{\"backgroundcolor\":\"#E5ECF6\",\"gridcolor\":\"white\",\"linecolor\":\"white\",\"showbackground\":true,\"ticks\":\"\",\"zerolinecolor\":\"white\",\"gridwidth\":2},\"yaxis\":{\"backgroundcolor\":\"#E5ECF6\",\"gridcolor\":\"white\",\"linecolor\":\"white\",\"showbackground\":true,\"ticks\":\"\",\"zerolinecolor\":\"white\",\"gridwidth\":2},\"zaxis\":{\"backgroundcolor\":\"#E5ECF6\",\"gridcolor\":\"white\",\"linecolor\":\"white\",\"showbackground\":true,\"ticks\":\"\",\"zerolinecolor\":\"white\",\"gridwidth\":2}},\"shapedefaults\":{\"line\":{\"color\":\"#2a3f5f\"}},\"annotationdefaults\":{\"arrowcolor\":\"#2a3f5f\",\"arrowhead\":0,\"arrowwidth\":1},\"geo\":{\"bgcolor\":\"white\",\"landcolor\":\"#E5ECF6\",\"subunitcolor\":\"white\",\"showland\":true,\"showlakes\":true,\"lakecolor\":\"white\"},\"title\":{\"x\":0.05},\"mapbox\":{\"style\":\"light\"}}},\"xaxis\":{\"anchor\":\"y\",\"domain\":[0.0,1.0],\"title\":{\"text\":\"Personal_computers_per_100_people\"}},\"yaxis\":{\"anchor\":\"x\",\"domain\":[0.0,1.0],\"title\":{\"text\":\"Patents_granted\"}},\"coloraxis\":{\"colorbar\":{\"title\":{\"text\":\"Military_expenditure\"}},\"colorscale\":[[0.0,\"#0d0887\"],[0.1111111111111111,\"#46039f\"],[0.2222222222222222,\"#7201a8\"],[0.3333333333333333,\"#9c179e\"],[0.4444444444444444,\"#bd3786\"],[0.5555555555555556,\"#d8576b\"],[0.6666666666666666,\"#ed7953\"],[0.7777777777777778,\"#fb9f3a\"],[0.8888888888888888,\"#fdca26\"],[1.0,\"#f0f921\"]]},\"legend\":{\"tracegroupgap\":0},\"margin\":{\"t\":60}},                        {\"responsive\": true}                    ).then(function(){\n",
       "                            \n",
       "var gd = document.getElementById('b6054915-7ece-44e5-9f22-825178de68c2');\n",
       "var x = new MutationObserver(function (mutations, observer) {{\n",
       "        var display = window.getComputedStyle(gd).display;\n",
       "        if (!display || display === 'none') {{\n",
       "            console.log([gd, 'removed!']);\n",
       "            Plotly.purge(gd);\n",
       "            observer.disconnect();\n",
       "        }}\n",
       "}});\n",
       "\n",
       "// Listen for the removal of the full notebook cells\n",
       "var notebookContainer = gd.closest('#notebook-container');\n",
       "if (notebookContainer) {{\n",
       "    x.observe(notebookContainer, {childList: true});\n",
       "}}\n",
       "\n",
       "// Listen for the clearing of the current output cell\n",
       "var outputEl = gd.closest('.output');\n",
       "if (outputEl) {{\n",
       "    x.observe(outputEl, {childList: true});\n",
       "}}\n",
       "\n",
       "                        })                };                });            </script>        </div>"
      ]
     },
     "metadata": {},
     "output_type": "display_data"
    }
   ],
   "source": [
    "fig = px.scatter(\n",
    "    data_frame=df_mp, \n",
    "    x='Personal_computers_per_100_people', \n",
    "    y='Patents_granted',\n",
    "    color='Military_expenditure',\n",
    ")\n",
    "\n",
    "fig.show()"
   ]
  },
  {
   "cell_type": "markdown",
   "metadata": {},
   "source": [
    "# Customizations\n",
    "- ModeBar options: https://plotly.com/python/configuration-options/"
   ]
  },
  {
   "cell_type": "code",
   "execution_count": 75,
   "metadata": {},
   "outputs": [
    {
     "data": {
      "application/vnd.plotly.v1+json": {
       "config": {
        "displayModeBar": true,
        "displaylogo": false,
        "modeBarButtonsToRemove": [
         "pan",
         "select",
         "lasso2d",
         "zoomIn",
         "zoomOut"
        ],
        "plotlyServerURL": "https://plot.ly"
       },
       "data": [
        {
         "customdata": [
          [
           "Albania"
          ],
          [
           "Algeria"
          ],
          [
           "Argentina"
          ],
          [
           "Armenia"
          ],
          [
           "Australia"
          ],
          [
           "Austria"
          ],
          [
           "Azerbaijan"
          ],
          [
           "Bahrain"
          ],
          [
           "Bangladesh"
          ],
          [
           "Barbados"
          ],
          [
           "Belgium"
          ],
          [
           "Bolivia"
          ],
          [
           "Botswana"
          ],
          [
           "Brazil"
          ],
          [
           "Brunei Darussalam"
          ],
          [
           "Bulgaria"
          ],
          [
           "Burundi"
          ],
          [
           "Canada"
          ],
          [
           "Chile"
          ],
          [
           "China"
          ],
          [
           "Colombia"
          ],
          [
           "Croatia"
          ],
          [
           "Cyprus"
          ],
          [
           "Czech Republic"
          ],
          [
           "Denmark"
          ],
          [
           "Ecuador"
          ],
          [
           "Egypt"
          ],
          [
           "El Salvador"
          ],
          [
           "Estonia"
          ],
          [
           "Ethiopia"
          ],
          [
           "Finland"
          ],
          [
           "France"
          ],
          [
           "Gambia"
          ],
          [
           "Georgia"
          ],
          [
           "Germany"
          ],
          [
           "Ghana"
          ],
          [
           "Greece"
          ],
          [
           "Guatemala"
          ],
          [
           "Guyana"
          ],
          [
           "Honduras"
          ],
          [
           "Hungary"
          ],
          [
           "Iceland"
          ],
          [
           "India"
          ],
          [
           "Indonesia"
          ],
          [
           "Iran (Islamic Republic of)"
          ],
          [
           "Ireland"
          ],
          [
           "Israel"
          ],
          [
           "Italy"
          ],
          [
           "Jamaica"
          ],
          [
           "Japan"
          ],
          [
           "Jordan"
          ],
          [
           "Kenya"
          ],
          [
           "Korea, Rep."
          ],
          [
           "Kuwait"
          ],
          [
           "Kyrgyzstan"
          ],
          [
           "Latvia"
          ],
          [
           "Lithuania"
          ],
          [
           "Luxembourg"
          ],
          [
           "Macedonia"
          ],
          [
           "Madagascar"
          ],
          [
           "Malawi"
          ],
          [
           "Malaysia"
          ],
          [
           "Malta"
          ],
          [
           "Mauritius"
          ],
          [
           "Mexico"
          ],
          [
           "Moldova"
          ],
          [
           "Mongolia"
          ],
          [
           "Morocco"
          ],
          [
           "Namibia"
          ],
          [
           "Nepal"
          ],
          [
           "Netherlands"
          ],
          [
           "New Zealand"
          ],
          [
           "Nicaragua"
          ],
          [
           "Nigeria"
          ],
          [
           "Norway"
          ],
          [
           "Pakistan"
          ],
          [
           "Panama"
          ],
          [
           "Paraguay"
          ],
          [
           "Peru"
          ],
          [
           "Philippines"
          ],
          [
           "Poland"
          ],
          [
           "Portugal"
          ],
          [
           "Romania"
          ],
          [
           "Russia"
          ],
          [
           "Saudi Arabia"
          ],
          [
           "Seychelles"
          ],
          [
           "Singapore"
          ],
          [
           "Slovakia"
          ],
          [
           "Slovenia"
          ],
          [
           "South Africa"
          ],
          [
           "Spain"
          ],
          [
           "Sri Lanka"
          ],
          [
           "Sudan"
          ],
          [
           "Swaziland"
          ],
          [
           "Sweden"
          ],
          [
           "Switzerland"
          ],
          [
           "Syria"
          ],
          [
           "Tanzania"
          ],
          [
           "Thailand"
          ],
          [
           "Tunisia"
          ],
          [
           "Turkey"
          ],
          [
           "Uganda"
          ],
          [
           "Ukraine"
          ],
          [
           "United Kingdom"
          ],
          [
           "United States of America"
          ],
          [
           "Uruguay"
          ],
          [
           "Venezuela"
          ],
          [
           "Vietnam"
          ],
          [
           "Zambia"
          ],
          [
           "Zimbabwe"
          ]
         ],
         "hovertemplate": "<b>Country:</b> %{customdata[0]}<br><b>Computers per 100 people:</b> %{x:.1f}<br><b>Patents Granted:</b> %{y:.0f}<br><b>Military Expenditure:</b> %{marker.color:.2f}",
         "legendgroup": "",
         "marker": {
          "color": [
           1.4,
           2.87,
           1.04,
           2.72,
           1.78,
           0.88,
           2.37,
           3.02,
           1.16,
           0.83,
           1.13,
           1.62,
           3,
           1.42,
           2.61,
           2.35,
           6.22,
           1.15,
           3.7,
           1.97,
           3.71,
           1.58,
           1.38,
           1.77,
           1.34,
           2.39,
           2.83,
           0.63,
           1.49,
           3.01,
           1.4,
           2.48,
           0.48,
           3.59,
           1.37,
           0.75,
           3.25,
           0.33,
           0.79,
           0.59,
           1.44,
           0,
           2.75,
           1.19,
           4.72,
           0.57,
           9.65,
           1.89,
           0.57,
           0.97,
           5.33,
           1.66,
           2.57,
           4.84,
           3.07,
           1.71,
           1.19,
           0.81,
           2.18,
           1.07,
           0.54,
           2.27,
           0.69,
           0.2,
           0.42,
           0.34,
           1.29,
           3.92,
           3.01,
           2.12,
           1.52,
           1,
           0.7,
           0.68,
           1.62,
           4.15,
           0.98,
           0.75,
           1.37,
           0.88,
           1.94,
           2.26,
           1.97,
           4.07,
           8.05,
           1.74,
           4.68,
           1.74,
           1.5,
           1.47,
           1.05,
           2.6,
           2.24,
           1.94,
           1.54,
           0.95,
           4.62,
           1.07,
           1.15,
           1.63,
           2.84,
           2.3,
           2.32,
           2.7,
           4.07,
           1.32,
           1.11,
           2.65,
           2.25,
           0
          ],
          "coloraxis": "coloraxis",
          "symbol": "circle"
         },
         "mode": "markers",
         "name": "",
         "orientation": "v",
         "showlegend": false,
         "type": "scatter",
         "x": [
          1.2,
          0.9,
          8,
          5.3,
          68.9,
          57.6,
          1.8,
          16.9,
          1.2,
          12.5,
          34.7,
          2.3,
          4.7,
          10.7,
          8.5,
          5.9,
          0.5,
          69.8,
          13.9,
          4.1,
          5.5,
          19.1,
          30.9,
          21.6,
          65.5,
          5.5,
          3.3,
          4.5,
          47.4,
          0.3,
          48.2,
          48.7,
          1.6,
          3.8,
          48.5,
          0.5,
          9,
          1.8,
          3.5,
          1.6,
          14.6,
          47.1,
          1.2,
          1.4,
          10.5,
          49.7,
          73.4,
          31.3,
          6.2,
          54.1,
          5.3,
          1.4,
          54.5,
          17.6,
          1.7,
          21.9,
          15.5,
          62.1,
          6.8,
          0.5,
          0.2,
          19.2,
          31.5,
          16.2,
          10.7,
          2.6,
          11.9,
          2.1,
          10.9,
          0.5,
          68.5,
          49.3,
          3.5,
          0.7,
          57.8,
          0.4,
          4.1,
          5.9,
          9.7,
          4.5,
          19.1,
          13.3,
          11.3,
          13.2,
          34,
          13.88,
          62.2,
          29.6,
          35.5,
          8.3,
          25.4,
          2.7,
          1.8,
          3.3,
          76.1,
          82.3,
          3.3,
          0.7,
          6,
          4.8,
          5.1,
          0.5,
          2.8,
          60,
          76.2,
          13.3,
          8.2,
          1.3,
          1,
          8.4
         ],
         "xaxis": "x",
         "y": [
          502,
          111,
          1587,
          151,
          14496,
          20390,
          19,
          26,
          140,
          3,
          20785,
          47,
          33,
          4740,
          251,
          376,
          5,
          12951,
          601,
          21473,
          372,
          286,
          4332,
          1805,
          16469,
          21,
          757,
          61,
          358,
          1,
          11589,
          53415,
          53,
          256,
          61153,
          65,
          13235,
          6,
          3,
          146,
          1386,
          42,
          2160,
          631,
          881,
          14203,
          1474,
          34899,
          206,
          120018,
          58,
          100,
          45298,
          107,
          65,
          1650,
          1918,
          12176,
          679,
          15,
          2,
          786,
          125,
          3,
          6616,
          230,
          163,
          327,
          102,
          1,
          27482,
          2549,
          136,
          170,
          2448,
          350,
          15,
          26,
          308,
          566,
          2271,
          13840,
          2357,
          18114,
          25,
          6,
          7583,
          803,
          2802,
          5453,
          26626,
          160,
          79,
          70,
          24546,
          21852,
          62,
          8,
          541,
          146,
          1885,
          92,
          11670,
          52593,
          167334,
          55,
          756,
          727,
          63,
          78
         ],
         "yaxis": "y"
        }
       ],
       "layout": {
        "coloraxis": {
         "colorbar": {
          "title": {
           "text": "Military_expenditure"
          }
         },
         "colorscale": [
          [
           0,
           "#0d0887"
          ],
          [
           0.1111111111111111,
           "#46039f"
          ],
          [
           0.2222222222222222,
           "#7201a8"
          ],
          [
           0.3333333333333333,
           "#9c179e"
          ],
          [
           0.4444444444444444,
           "#bd3786"
          ],
          [
           0.5555555555555556,
           "#d8576b"
          ],
          [
           0.6666666666666666,
           "#ed7953"
          ],
          [
           0.7777777777777778,
           "#fb9f3a"
          ],
          [
           0.8888888888888888,
           "#fdca26"
          ],
          [
           1,
           "#f0f921"
          ]
         ]
        },
        "font": {
         "color": "RebeccaPurple",
         "family": "Calibri",
         "size": 14
        },
        "legend": {
         "title": {
          "text": "Military Expenditure"
         },
         "tracegroupgap": 0
        },
        "margin": {
         "b": 50,
         "l": 50,
         "r": 50,
         "t": 50
        },
        "template": {
         "data": {
          "bar": [
           {
            "error_x": {
             "color": "rgb(36,36,36)"
            },
            "error_y": {
             "color": "rgb(36,36,36)"
            },
            "marker": {
             "line": {
              "color": "white",
              "width": 0.5
             },
             "pattern": {
              "fillmode": "overlay",
              "size": 10,
              "solidity": 0.2
             }
            },
            "type": "bar"
           }
          ],
          "barpolar": [
           {
            "marker": {
             "line": {
              "color": "white",
              "width": 0.5
             },
             "pattern": {
              "fillmode": "overlay",
              "size": 10,
              "solidity": 0.2
             }
            },
            "type": "barpolar"
           }
          ],
          "carpet": [
           {
            "aaxis": {
             "endlinecolor": "rgb(36,36,36)",
             "gridcolor": "white",
             "linecolor": "white",
             "minorgridcolor": "white",
             "startlinecolor": "rgb(36,36,36)"
            },
            "baxis": {
             "endlinecolor": "rgb(36,36,36)",
             "gridcolor": "white",
             "linecolor": "white",
             "minorgridcolor": "white",
             "startlinecolor": "rgb(36,36,36)"
            },
            "type": "carpet"
           }
          ],
          "choropleth": [
           {
            "colorbar": {
             "outlinewidth": 1,
             "tickcolor": "rgb(36,36,36)",
             "ticks": "outside"
            },
            "type": "choropleth"
           }
          ],
          "contour": [
           {
            "colorbar": {
             "outlinewidth": 1,
             "tickcolor": "rgb(36,36,36)",
             "ticks": "outside"
            },
            "colorscale": [
             [
              0,
              "#440154"
             ],
             [
              0.1111111111111111,
              "#482878"
             ],
             [
              0.2222222222222222,
              "#3e4989"
             ],
             [
              0.3333333333333333,
              "#31688e"
             ],
             [
              0.4444444444444444,
              "#26828e"
             ],
             [
              0.5555555555555556,
              "#1f9e89"
             ],
             [
              0.6666666666666666,
              "#35b779"
             ],
             [
              0.7777777777777778,
              "#6ece58"
             ],
             [
              0.8888888888888888,
              "#b5de2b"
             ],
             [
              1,
              "#fde725"
             ]
            ],
            "type": "contour"
           }
          ],
          "contourcarpet": [
           {
            "colorbar": {
             "outlinewidth": 1,
             "tickcolor": "rgb(36,36,36)",
             "ticks": "outside"
            },
            "type": "contourcarpet"
           }
          ],
          "heatmap": [
           {
            "colorbar": {
             "outlinewidth": 1,
             "tickcolor": "rgb(36,36,36)",
             "ticks": "outside"
            },
            "colorscale": [
             [
              0,
              "#440154"
             ],
             [
              0.1111111111111111,
              "#482878"
             ],
             [
              0.2222222222222222,
              "#3e4989"
             ],
             [
              0.3333333333333333,
              "#31688e"
             ],
             [
              0.4444444444444444,
              "#26828e"
             ],
             [
              0.5555555555555556,
              "#1f9e89"
             ],
             [
              0.6666666666666666,
              "#35b779"
             ],
             [
              0.7777777777777778,
              "#6ece58"
             ],
             [
              0.8888888888888888,
              "#b5de2b"
             ],
             [
              1,
              "#fde725"
             ]
            ],
            "type": "heatmap"
           }
          ],
          "heatmapgl": [
           {
            "colorbar": {
             "outlinewidth": 1,
             "tickcolor": "rgb(36,36,36)",
             "ticks": "outside"
            },
            "colorscale": [
             [
              0,
              "#440154"
             ],
             [
              0.1111111111111111,
              "#482878"
             ],
             [
              0.2222222222222222,
              "#3e4989"
             ],
             [
              0.3333333333333333,
              "#31688e"
             ],
             [
              0.4444444444444444,
              "#26828e"
             ],
             [
              0.5555555555555556,
              "#1f9e89"
             ],
             [
              0.6666666666666666,
              "#35b779"
             ],
             [
              0.7777777777777778,
              "#6ece58"
             ],
             [
              0.8888888888888888,
              "#b5de2b"
             ],
             [
              1,
              "#fde725"
             ]
            ],
            "type": "heatmapgl"
           }
          ],
          "histogram": [
           {
            "marker": {
             "line": {
              "color": "white",
              "width": 0.6
             }
            },
            "type": "histogram"
           }
          ],
          "histogram2d": [
           {
            "colorbar": {
             "outlinewidth": 1,
             "tickcolor": "rgb(36,36,36)",
             "ticks": "outside"
            },
            "colorscale": [
             [
              0,
              "#440154"
             ],
             [
              0.1111111111111111,
              "#482878"
             ],
             [
              0.2222222222222222,
              "#3e4989"
             ],
             [
              0.3333333333333333,
              "#31688e"
             ],
             [
              0.4444444444444444,
              "#26828e"
             ],
             [
              0.5555555555555556,
              "#1f9e89"
             ],
             [
              0.6666666666666666,
              "#35b779"
             ],
             [
              0.7777777777777778,
              "#6ece58"
             ],
             [
              0.8888888888888888,
              "#b5de2b"
             ],
             [
              1,
              "#fde725"
             ]
            ],
            "type": "histogram2d"
           }
          ],
          "histogram2dcontour": [
           {
            "colorbar": {
             "outlinewidth": 1,
             "tickcolor": "rgb(36,36,36)",
             "ticks": "outside"
            },
            "colorscale": [
             [
              0,
              "#440154"
             ],
             [
              0.1111111111111111,
              "#482878"
             ],
             [
              0.2222222222222222,
              "#3e4989"
             ],
             [
              0.3333333333333333,
              "#31688e"
             ],
             [
              0.4444444444444444,
              "#26828e"
             ],
             [
              0.5555555555555556,
              "#1f9e89"
             ],
             [
              0.6666666666666666,
              "#35b779"
             ],
             [
              0.7777777777777778,
              "#6ece58"
             ],
             [
              0.8888888888888888,
              "#b5de2b"
             ],
             [
              1,
              "#fde725"
             ]
            ],
            "type": "histogram2dcontour"
           }
          ],
          "mesh3d": [
           {
            "colorbar": {
             "outlinewidth": 1,
             "tickcolor": "rgb(36,36,36)",
             "ticks": "outside"
            },
            "type": "mesh3d"
           }
          ],
          "parcoords": [
           {
            "line": {
             "colorbar": {
              "outlinewidth": 1,
              "tickcolor": "rgb(36,36,36)",
              "ticks": "outside"
             }
            },
            "type": "parcoords"
           }
          ],
          "pie": [
           {
            "automargin": true,
            "type": "pie"
           }
          ],
          "scatter": [
           {
            "fillpattern": {
             "fillmode": "overlay",
             "size": 10,
             "solidity": 0.2
            },
            "type": "scatter"
           }
          ],
          "scatter3d": [
           {
            "line": {
             "colorbar": {
              "outlinewidth": 1,
              "tickcolor": "rgb(36,36,36)",
              "ticks": "outside"
             }
            },
            "marker": {
             "colorbar": {
              "outlinewidth": 1,
              "tickcolor": "rgb(36,36,36)",
              "ticks": "outside"
             }
            },
            "type": "scatter3d"
           }
          ],
          "scattercarpet": [
           {
            "marker": {
             "colorbar": {
              "outlinewidth": 1,
              "tickcolor": "rgb(36,36,36)",
              "ticks": "outside"
             }
            },
            "type": "scattercarpet"
           }
          ],
          "scattergeo": [
           {
            "marker": {
             "colorbar": {
              "outlinewidth": 1,
              "tickcolor": "rgb(36,36,36)",
              "ticks": "outside"
             }
            },
            "type": "scattergeo"
           }
          ],
          "scattergl": [
           {
            "marker": {
             "colorbar": {
              "outlinewidth": 1,
              "tickcolor": "rgb(36,36,36)",
              "ticks": "outside"
             }
            },
            "type": "scattergl"
           }
          ],
          "scattermapbox": [
           {
            "marker": {
             "colorbar": {
              "outlinewidth": 1,
              "tickcolor": "rgb(36,36,36)",
              "ticks": "outside"
             }
            },
            "type": "scattermapbox"
           }
          ],
          "scatterpolar": [
           {
            "marker": {
             "colorbar": {
              "outlinewidth": 1,
              "tickcolor": "rgb(36,36,36)",
              "ticks": "outside"
             }
            },
            "type": "scatterpolar"
           }
          ],
          "scatterpolargl": [
           {
            "marker": {
             "colorbar": {
              "outlinewidth": 1,
              "tickcolor": "rgb(36,36,36)",
              "ticks": "outside"
             }
            },
            "type": "scatterpolargl"
           }
          ],
          "scatterternary": [
           {
            "marker": {
             "colorbar": {
              "outlinewidth": 1,
              "tickcolor": "rgb(36,36,36)",
              "ticks": "outside"
             }
            },
            "type": "scatterternary"
           }
          ],
          "surface": [
           {
            "colorbar": {
             "outlinewidth": 1,
             "tickcolor": "rgb(36,36,36)",
             "ticks": "outside"
            },
            "colorscale": [
             [
              0,
              "#440154"
             ],
             [
              0.1111111111111111,
              "#482878"
             ],
             [
              0.2222222222222222,
              "#3e4989"
             ],
             [
              0.3333333333333333,
              "#31688e"
             ],
             [
              0.4444444444444444,
              "#26828e"
             ],
             [
              0.5555555555555556,
              "#1f9e89"
             ],
             [
              0.6666666666666666,
              "#35b779"
             ],
             [
              0.7777777777777778,
              "#6ece58"
             ],
             [
              0.8888888888888888,
              "#b5de2b"
             ],
             [
              1,
              "#fde725"
             ]
            ],
            "type": "surface"
           }
          ],
          "table": [
           {
            "cells": {
             "fill": {
              "color": "rgb(237,237,237)"
             },
             "line": {
              "color": "white"
             }
            },
            "header": {
             "fill": {
              "color": "rgb(217,217,217)"
             },
             "line": {
              "color": "white"
             }
            },
            "type": "table"
           }
          ]
         },
         "layout": {
          "annotationdefaults": {
           "arrowhead": 0,
           "arrowwidth": 1
          },
          "autotypenumbers": "strict",
          "coloraxis": {
           "colorbar": {
            "outlinewidth": 1,
            "tickcolor": "rgb(36,36,36)",
            "ticks": "outside"
           }
          },
          "colorscale": {
           "diverging": [
            [
             0,
             "rgb(103,0,31)"
            ],
            [
             0.1,
             "rgb(178,24,43)"
            ],
            [
             0.2,
             "rgb(214,96,77)"
            ],
            [
             0.3,
             "rgb(244,165,130)"
            ],
            [
             0.4,
             "rgb(253,219,199)"
            ],
            [
             0.5,
             "rgb(247,247,247)"
            ],
            [
             0.6,
             "rgb(209,229,240)"
            ],
            [
             0.7,
             "rgb(146,197,222)"
            ],
            [
             0.8,
             "rgb(67,147,195)"
            ],
            [
             0.9,
             "rgb(33,102,172)"
            ],
            [
             1,
             "rgb(5,48,97)"
            ]
           ],
           "sequential": [
            [
             0,
             "#440154"
            ],
            [
             0.1111111111111111,
             "#482878"
            ],
            [
             0.2222222222222222,
             "#3e4989"
            ],
            [
             0.3333333333333333,
             "#31688e"
            ],
            [
             0.4444444444444444,
             "#26828e"
            ],
            [
             0.5555555555555556,
             "#1f9e89"
            ],
            [
             0.6666666666666666,
             "#35b779"
            ],
            [
             0.7777777777777778,
             "#6ece58"
            ],
            [
             0.8888888888888888,
             "#b5de2b"
            ],
            [
             1,
             "#fde725"
            ]
           ],
           "sequentialminus": [
            [
             0,
             "#440154"
            ],
            [
             0.1111111111111111,
             "#482878"
            ],
            [
             0.2222222222222222,
             "#3e4989"
            ],
            [
             0.3333333333333333,
             "#31688e"
            ],
            [
             0.4444444444444444,
             "#26828e"
            ],
            [
             0.5555555555555556,
             "#1f9e89"
            ],
            [
             0.6666666666666666,
             "#35b779"
            ],
            [
             0.7777777777777778,
             "#6ece58"
            ],
            [
             0.8888888888888888,
             "#b5de2b"
            ],
            [
             1,
             "#fde725"
            ]
           ]
          },
          "colorway": [
           "#1F77B4",
           "#FF7F0E",
           "#2CA02C",
           "#D62728",
           "#9467BD",
           "#8C564B",
           "#E377C2",
           "#7F7F7F",
           "#BCBD22",
           "#17BECF"
          ],
          "font": {
           "color": "rgb(36,36,36)"
          },
          "geo": {
           "bgcolor": "white",
           "lakecolor": "white",
           "landcolor": "white",
           "showlakes": true,
           "showland": true,
           "subunitcolor": "white"
          },
          "hoverlabel": {
           "align": "left"
          },
          "hovermode": "closest",
          "mapbox": {
           "style": "light"
          },
          "paper_bgcolor": "white",
          "plot_bgcolor": "white",
          "polar": {
           "angularaxis": {
            "gridcolor": "rgb(232,232,232)",
            "linecolor": "rgb(36,36,36)",
            "showgrid": false,
            "showline": true,
            "ticks": "outside"
           },
           "bgcolor": "white",
           "radialaxis": {
            "gridcolor": "rgb(232,232,232)",
            "linecolor": "rgb(36,36,36)",
            "showgrid": false,
            "showline": true,
            "ticks": "outside"
           }
          },
          "scene": {
           "xaxis": {
            "backgroundcolor": "white",
            "gridcolor": "rgb(232,232,232)",
            "gridwidth": 2,
            "linecolor": "rgb(36,36,36)",
            "showbackground": true,
            "showgrid": false,
            "showline": true,
            "ticks": "outside",
            "zeroline": false,
            "zerolinecolor": "rgb(36,36,36)"
           },
           "yaxis": {
            "backgroundcolor": "white",
            "gridcolor": "rgb(232,232,232)",
            "gridwidth": 2,
            "linecolor": "rgb(36,36,36)",
            "showbackground": true,
            "showgrid": false,
            "showline": true,
            "ticks": "outside",
            "zeroline": false,
            "zerolinecolor": "rgb(36,36,36)"
           },
           "zaxis": {
            "backgroundcolor": "white",
            "gridcolor": "rgb(232,232,232)",
            "gridwidth": 2,
            "linecolor": "rgb(36,36,36)",
            "showbackground": true,
            "showgrid": false,
            "showline": true,
            "ticks": "outside",
            "zeroline": false,
            "zerolinecolor": "rgb(36,36,36)"
           }
          },
          "shapedefaults": {
           "fillcolor": "black",
           "line": {
            "width": 0
           },
           "opacity": 0.3
          },
          "ternary": {
           "aaxis": {
            "gridcolor": "rgb(232,232,232)",
            "linecolor": "rgb(36,36,36)",
            "showgrid": false,
            "showline": true,
            "ticks": "outside"
           },
           "baxis": {
            "gridcolor": "rgb(232,232,232)",
            "linecolor": "rgb(36,36,36)",
            "showgrid": false,
            "showline": true,
            "ticks": "outside"
           },
           "bgcolor": "white",
           "caxis": {
            "gridcolor": "rgb(232,232,232)",
            "linecolor": "rgb(36,36,36)",
            "showgrid": false,
            "showline": true,
            "ticks": "outside"
           }
          },
          "title": {
           "x": 0.05
          },
          "xaxis": {
           "automargin": true,
           "gridcolor": "rgb(232,232,232)",
           "linecolor": "rgb(36,36,36)",
           "showgrid": false,
           "showline": true,
           "ticks": "outside",
           "title": {
            "standoff": 15
           },
           "zeroline": false,
           "zerolinecolor": "rgb(36,36,36)"
          },
          "yaxis": {
           "automargin": true,
           "gridcolor": "rgb(232,232,232)",
           "linecolor": "rgb(36,36,36)",
           "showgrid": false,
           "showline": true,
           "ticks": "outside",
           "title": {
            "standoff": 15
           },
           "zeroline": false,
           "zerolinecolor": "rgb(36,36,36)"
          }
         }
        },
        "xaxis": {
         "anchor": "y",
         "domain": [
          0,
          1
         ],
         "title": {
          "text": "Personal Computers per 100 People"
         }
        },
        "yaxis": {
         "anchor": "x",
         "domain": [
          0,
          1
         ],
         "title": {
          "text": "Patents Granted"
         }
        }
       }
      },
      "text/html": [
       "<div>                            <div id=\"94637c8d-5bbd-4955-ac0f-5054fc327d71\" class=\"plotly-graph-div\" style=\"height:525px; width:100%;\"></div>            <script type=\"text/javascript\">                require([\"plotly\"], function(Plotly) {                    window.PLOTLYENV=window.PLOTLYENV || {};                                    if (document.getElementById(\"94637c8d-5bbd-4955-ac0f-5054fc327d71\")) {                    Plotly.newPlot(                        \"94637c8d-5bbd-4955-ac0f-5054fc327d71\",                        [{\"customdata\":[[\"Albania\"],[\"Algeria\"],[\"Argentina\"],[\"Armenia\"],[\"Australia\"],[\"Austria\"],[\"Azerbaijan\"],[\"Bahrain\"],[\"Bangladesh\"],[\"Barbados\"],[\"Belgium\"],[\"Bolivia\"],[\"Botswana\"],[\"Brazil\"],[\"Brunei Darussalam\"],[\"Bulgaria\"],[\"Burundi\"],[\"Canada\"],[\"Chile\"],[\"China\"],[\"Colombia\"],[\"Croatia\"],[\"Cyprus\"],[\"Czech Republic\"],[\"Denmark\"],[\"Ecuador\"],[\"Egypt\"],[\"El Salvador\"],[\"Estonia\"],[\"Ethiopia\"],[\"Finland\"],[\"France\"],[\"Gambia\"],[\"Georgia\"],[\"Germany\"],[\"Ghana\"],[\"Greece\"],[\"Guatemala\"],[\"Guyana\"],[\"Honduras\"],[\"Hungary\"],[\"Iceland\"],[\"India\"],[\"Indonesia\"],[\"Iran (Islamic Republic of)\"],[\"Ireland\"],[\"Israel\"],[\"Italy\"],[\"Jamaica\"],[\"Japan\"],[\"Jordan\"],[\"Kenya\"],[\"Korea, Rep.\"],[\"Kuwait\"],[\"Kyrgyzstan\"],[\"Latvia\"],[\"Lithuania\"],[\"Luxembourg\"],[\"Macedonia\"],[\"Madagascar\"],[\"Malawi\"],[\"Malaysia\"],[\"Malta\"],[\"Mauritius\"],[\"Mexico\"],[\"Moldova\"],[\"Mongolia\"],[\"Morocco\"],[\"Namibia\"],[\"Nepal\"],[\"Netherlands\"],[\"New Zealand\"],[\"Nicaragua\"],[\"Nigeria\"],[\"Norway\"],[\"Pakistan\"],[\"Panama\"],[\"Paraguay\"],[\"Peru\"],[\"Philippines\"],[\"Poland\"],[\"Portugal\"],[\"Romania\"],[\"Russia\"],[\"Saudi Arabia\"],[\"Seychelles\"],[\"Singapore\"],[\"Slovakia\"],[\"Slovenia\"],[\"South Africa\"],[\"Spain\"],[\"Sri Lanka\"],[\"Sudan\"],[\"Swaziland\"],[\"Sweden\"],[\"Switzerland\"],[\"Syria\"],[\"Tanzania\"],[\"Thailand\"],[\"Tunisia\"],[\"Turkey\"],[\"Uganda\"],[\"Ukraine\"],[\"United Kingdom\"],[\"United States of America\"],[\"Uruguay\"],[\"Venezuela\"],[\"Vietnam\"],[\"Zambia\"],[\"Zimbabwe\"]],\"hovertemplate\":\"\\u003cb\\u003eCountry:\\u003c\\u002fb\\u003e %{customdata[0]}\\u003cbr\\u003e\\u003cb\\u003eComputers per 100 people:\\u003c\\u002fb\\u003e %{x:.1f}\\u003cbr\\u003e\\u003cb\\u003ePatents Granted:\\u003c\\u002fb\\u003e %{y:.0f}\\u003cbr\\u003e\\u003cb\\u003eMilitary Expenditure:\\u003c\\u002fb\\u003e %{marker.color:.2f}\",\"legendgroup\":\"\",\"marker\":{\"color\":[1.4,2.87,1.04,2.72,1.78,0.88,2.37,3.02,1.16,0.83,1.13,1.62,3.0,1.42,2.61,2.35,6.22,1.15,3.7,1.97,3.71,1.58,1.38,1.77,1.34,2.39,2.83,0.63,1.49,3.01,1.4,2.48,0.48,3.59,1.37,0.75,3.25,0.33,0.79,0.59,1.44,0.0,2.75,1.19,4.72,0.57,9.65,1.89,0.57,0.97,5.33,1.66,2.57,4.84,3.07,1.71,1.19,0.81,2.18,1.07,0.54,2.27,0.69,0.2,0.42,0.34,1.29,3.92,3.01,2.12,1.52,1.0,0.7,0.68,1.62,4.15,0.98,0.75,1.37,0.88,1.94,2.26,1.97,4.07,8.05,1.74,4.68,1.74,1.5,1.47,1.05,2.6,2.24,1.94,1.54,0.95,4.62,1.07,1.15,1.63,2.84,2.3,2.32,2.7,4.07,1.32,1.11,2.65,2.25,0.0],\"coloraxis\":\"coloraxis\",\"symbol\":\"circle\"},\"mode\":\"markers\",\"name\":\"\",\"orientation\":\"v\",\"showlegend\":false,\"x\":[1.2,0.9,8.0,5.3,68.9,57.6,1.8,16.9,1.2,12.5,34.7,2.3,4.7,10.7,8.5,5.9,0.5,69.8,13.9,4.1,5.5,19.1,30.9,21.6,65.5,5.5,3.3,4.5,47.4,0.3,48.2,48.7,1.6,3.8,48.5,0.5,9.0,1.8,3.5,1.6,14.6,47.1,1.2,1.4,10.5,49.7,73.4,31.3,6.2,54.1,5.3,1.4,54.5,17.6,1.7,21.9,15.5,62.1,6.8,0.5,0.2,19.2,31.5,16.2,10.7,2.6,11.9,2.1,10.9,0.5,68.5,49.3,3.5,0.7,57.8,0.4,4.1,5.9,9.7,4.5,19.1,13.3,11.3,13.2,34.0,13.88,62.2,29.6,35.5,8.3,25.4,2.7,1.8,3.3,76.1,82.3,3.3,0.7,6.0,4.8,5.1,0.5,2.8,60.0,76.2,13.3,8.2,1.3,1.0,8.4],\"xaxis\":\"x\",\"y\":[502.0,111.0,1587.0,151.0,14496.0,20390.0,19.0,26.0,140.0,3.0,20785.0,47.0,33.0,4740.0,251.0,376.0,5.0,12951.0,601.0,21473.0,372.0,286.0,4332.0,1805.0,16469.0,21.0,757.0,61.0,358.0,1.0,11589.0,53415.0,53.0,256.0,61153.0,65.0,13235.0,6.0,3.0,146.0,1386.0,42.0,2160.0,631.0,881.0,14203.0,1474.0,34899.0,206.0,120018.0,58.0,100.0,45298.0,107.0,65.0,1650.0,1918.0,12176.0,679.0,15.0,2.0,786.0,125.0,3.0,6616.0,230.0,163.0,327.0,102.0,1.0,27482.0,2549.0,136.0,170.0,2448.0,350.0,15.0,26.0,308.0,566.0,2271.0,13840.0,2357.0,18114.0,25.0,6.0,7583.0,803.0,2802.0,5453.0,26626.0,160.0,79.0,70.0,24546.0,21852.0,62.0,8.0,541.0,146.0,1885.0,92.0,11670.0,52593.0,167334.0,55.0,756.0,727.0,63.0,78.0],\"yaxis\":\"y\",\"type\":\"scatter\"}],                        {\"template\":{\"data\":{\"barpolar\":[{\"marker\":{\"line\":{\"color\":\"white\",\"width\":0.5},\"pattern\":{\"fillmode\":\"overlay\",\"size\":10,\"solidity\":0.2}},\"type\":\"barpolar\"}],\"bar\":[{\"error_x\":{\"color\":\"rgb(36,36,36)\"},\"error_y\":{\"color\":\"rgb(36,36,36)\"},\"marker\":{\"line\":{\"color\":\"white\",\"width\":0.5},\"pattern\":{\"fillmode\":\"overlay\",\"size\":10,\"solidity\":0.2}},\"type\":\"bar\"}],\"carpet\":[{\"aaxis\":{\"endlinecolor\":\"rgb(36,36,36)\",\"gridcolor\":\"white\",\"linecolor\":\"white\",\"minorgridcolor\":\"white\",\"startlinecolor\":\"rgb(36,36,36)\"},\"baxis\":{\"endlinecolor\":\"rgb(36,36,36)\",\"gridcolor\":\"white\",\"linecolor\":\"white\",\"minorgridcolor\":\"white\",\"startlinecolor\":\"rgb(36,36,36)\"},\"type\":\"carpet\"}],\"choropleth\":[{\"colorbar\":{\"outlinewidth\":1,\"tickcolor\":\"rgb(36,36,36)\",\"ticks\":\"outside\"},\"type\":\"choropleth\"}],\"contourcarpet\":[{\"colorbar\":{\"outlinewidth\":1,\"tickcolor\":\"rgb(36,36,36)\",\"ticks\":\"outside\"},\"type\":\"contourcarpet\"}],\"contour\":[{\"colorbar\":{\"outlinewidth\":1,\"tickcolor\":\"rgb(36,36,36)\",\"ticks\":\"outside\"},\"colorscale\":[[0.0,\"#440154\"],[0.1111111111111111,\"#482878\"],[0.2222222222222222,\"#3e4989\"],[0.3333333333333333,\"#31688e\"],[0.4444444444444444,\"#26828e\"],[0.5555555555555556,\"#1f9e89\"],[0.6666666666666666,\"#35b779\"],[0.7777777777777778,\"#6ece58\"],[0.8888888888888888,\"#b5de2b\"],[1.0,\"#fde725\"]],\"type\":\"contour\"}],\"heatmapgl\":[{\"colorbar\":{\"outlinewidth\":1,\"tickcolor\":\"rgb(36,36,36)\",\"ticks\":\"outside\"},\"colorscale\":[[0.0,\"#440154\"],[0.1111111111111111,\"#482878\"],[0.2222222222222222,\"#3e4989\"],[0.3333333333333333,\"#31688e\"],[0.4444444444444444,\"#26828e\"],[0.5555555555555556,\"#1f9e89\"],[0.6666666666666666,\"#35b779\"],[0.7777777777777778,\"#6ece58\"],[0.8888888888888888,\"#b5de2b\"],[1.0,\"#fde725\"]],\"type\":\"heatmapgl\"}],\"heatmap\":[{\"colorbar\":{\"outlinewidth\":1,\"tickcolor\":\"rgb(36,36,36)\",\"ticks\":\"outside\"},\"colorscale\":[[0.0,\"#440154\"],[0.1111111111111111,\"#482878\"],[0.2222222222222222,\"#3e4989\"],[0.3333333333333333,\"#31688e\"],[0.4444444444444444,\"#26828e\"],[0.5555555555555556,\"#1f9e89\"],[0.6666666666666666,\"#35b779\"],[0.7777777777777778,\"#6ece58\"],[0.8888888888888888,\"#b5de2b\"],[1.0,\"#fde725\"]],\"type\":\"heatmap\"}],\"histogram2dcontour\":[{\"colorbar\":{\"outlinewidth\":1,\"tickcolor\":\"rgb(36,36,36)\",\"ticks\":\"outside\"},\"colorscale\":[[0.0,\"#440154\"],[0.1111111111111111,\"#482878\"],[0.2222222222222222,\"#3e4989\"],[0.3333333333333333,\"#31688e\"],[0.4444444444444444,\"#26828e\"],[0.5555555555555556,\"#1f9e89\"],[0.6666666666666666,\"#35b779\"],[0.7777777777777778,\"#6ece58\"],[0.8888888888888888,\"#b5de2b\"],[1.0,\"#fde725\"]],\"type\":\"histogram2dcontour\"}],\"histogram2d\":[{\"colorbar\":{\"outlinewidth\":1,\"tickcolor\":\"rgb(36,36,36)\",\"ticks\":\"outside\"},\"colorscale\":[[0.0,\"#440154\"],[0.1111111111111111,\"#482878\"],[0.2222222222222222,\"#3e4989\"],[0.3333333333333333,\"#31688e\"],[0.4444444444444444,\"#26828e\"],[0.5555555555555556,\"#1f9e89\"],[0.6666666666666666,\"#35b779\"],[0.7777777777777778,\"#6ece58\"],[0.8888888888888888,\"#b5de2b\"],[1.0,\"#fde725\"]],\"type\":\"histogram2d\"}],\"histogram\":[{\"marker\":{\"line\":{\"color\":\"white\",\"width\":0.6}},\"type\":\"histogram\"}],\"mesh3d\":[{\"colorbar\":{\"outlinewidth\":1,\"tickcolor\":\"rgb(36,36,36)\",\"ticks\":\"outside\"},\"type\":\"mesh3d\"}],\"parcoords\":[{\"line\":{\"colorbar\":{\"outlinewidth\":1,\"tickcolor\":\"rgb(36,36,36)\",\"ticks\":\"outside\"}},\"type\":\"parcoords\"}],\"pie\":[{\"automargin\":true,\"type\":\"pie\"}],\"scatter3d\":[{\"line\":{\"colorbar\":{\"outlinewidth\":1,\"tickcolor\":\"rgb(36,36,36)\",\"ticks\":\"outside\"}},\"marker\":{\"colorbar\":{\"outlinewidth\":1,\"tickcolor\":\"rgb(36,36,36)\",\"ticks\":\"outside\"}},\"type\":\"scatter3d\"}],\"scattercarpet\":[{\"marker\":{\"colorbar\":{\"outlinewidth\":1,\"tickcolor\":\"rgb(36,36,36)\",\"ticks\":\"outside\"}},\"type\":\"scattercarpet\"}],\"scattergeo\":[{\"marker\":{\"colorbar\":{\"outlinewidth\":1,\"tickcolor\":\"rgb(36,36,36)\",\"ticks\":\"outside\"}},\"type\":\"scattergeo\"}],\"scattergl\":[{\"marker\":{\"colorbar\":{\"outlinewidth\":1,\"tickcolor\":\"rgb(36,36,36)\",\"ticks\":\"outside\"}},\"type\":\"scattergl\"}],\"scattermapbox\":[{\"marker\":{\"colorbar\":{\"outlinewidth\":1,\"tickcolor\":\"rgb(36,36,36)\",\"ticks\":\"outside\"}},\"type\":\"scattermapbox\"}],\"scatterpolargl\":[{\"marker\":{\"colorbar\":{\"outlinewidth\":1,\"tickcolor\":\"rgb(36,36,36)\",\"ticks\":\"outside\"}},\"type\":\"scatterpolargl\"}],\"scatterpolar\":[{\"marker\":{\"colorbar\":{\"outlinewidth\":1,\"tickcolor\":\"rgb(36,36,36)\",\"ticks\":\"outside\"}},\"type\":\"scatterpolar\"}],\"scatter\":[{\"fillpattern\":{\"fillmode\":\"overlay\",\"size\":10,\"solidity\":0.2},\"type\":\"scatter\"}],\"scatterternary\":[{\"marker\":{\"colorbar\":{\"outlinewidth\":1,\"tickcolor\":\"rgb(36,36,36)\",\"ticks\":\"outside\"}},\"type\":\"scatterternary\"}],\"surface\":[{\"colorbar\":{\"outlinewidth\":1,\"tickcolor\":\"rgb(36,36,36)\",\"ticks\":\"outside\"},\"colorscale\":[[0.0,\"#440154\"],[0.1111111111111111,\"#482878\"],[0.2222222222222222,\"#3e4989\"],[0.3333333333333333,\"#31688e\"],[0.4444444444444444,\"#26828e\"],[0.5555555555555556,\"#1f9e89\"],[0.6666666666666666,\"#35b779\"],[0.7777777777777778,\"#6ece58\"],[0.8888888888888888,\"#b5de2b\"],[1.0,\"#fde725\"]],\"type\":\"surface\"}],\"table\":[{\"cells\":{\"fill\":{\"color\":\"rgb(237,237,237)\"},\"line\":{\"color\":\"white\"}},\"header\":{\"fill\":{\"color\":\"rgb(217,217,217)\"},\"line\":{\"color\":\"white\"}},\"type\":\"table\"}]},\"layout\":{\"annotationdefaults\":{\"arrowhead\":0,\"arrowwidth\":1},\"autotypenumbers\":\"strict\",\"coloraxis\":{\"colorbar\":{\"outlinewidth\":1,\"tickcolor\":\"rgb(36,36,36)\",\"ticks\":\"outside\"}},\"colorscale\":{\"diverging\":[[0.0,\"rgb(103,0,31)\"],[0.1,\"rgb(178,24,43)\"],[0.2,\"rgb(214,96,77)\"],[0.3,\"rgb(244,165,130)\"],[0.4,\"rgb(253,219,199)\"],[0.5,\"rgb(247,247,247)\"],[0.6,\"rgb(209,229,240)\"],[0.7,\"rgb(146,197,222)\"],[0.8,\"rgb(67,147,195)\"],[0.9,\"rgb(33,102,172)\"],[1.0,\"rgb(5,48,97)\"]],\"sequential\":[[0.0,\"#440154\"],[0.1111111111111111,\"#482878\"],[0.2222222222222222,\"#3e4989\"],[0.3333333333333333,\"#31688e\"],[0.4444444444444444,\"#26828e\"],[0.5555555555555556,\"#1f9e89\"],[0.6666666666666666,\"#35b779\"],[0.7777777777777778,\"#6ece58\"],[0.8888888888888888,\"#b5de2b\"],[1.0,\"#fde725\"]],\"sequentialminus\":[[0.0,\"#440154\"],[0.1111111111111111,\"#482878\"],[0.2222222222222222,\"#3e4989\"],[0.3333333333333333,\"#31688e\"],[0.4444444444444444,\"#26828e\"],[0.5555555555555556,\"#1f9e89\"],[0.6666666666666666,\"#35b779\"],[0.7777777777777778,\"#6ece58\"],[0.8888888888888888,\"#b5de2b\"],[1.0,\"#fde725\"]]},\"colorway\":[\"#1F77B4\",\"#FF7F0E\",\"#2CA02C\",\"#D62728\",\"#9467BD\",\"#8C564B\",\"#E377C2\",\"#7F7F7F\",\"#BCBD22\",\"#17BECF\"],\"font\":{\"color\":\"rgb(36,36,36)\"},\"geo\":{\"bgcolor\":\"white\",\"lakecolor\":\"white\",\"landcolor\":\"white\",\"showlakes\":true,\"showland\":true,\"subunitcolor\":\"white\"},\"hoverlabel\":{\"align\":\"left\"},\"hovermode\":\"closest\",\"mapbox\":{\"style\":\"light\"},\"paper_bgcolor\":\"white\",\"plot_bgcolor\":\"white\",\"polar\":{\"angularaxis\":{\"gridcolor\":\"rgb(232,232,232)\",\"linecolor\":\"rgb(36,36,36)\",\"showgrid\":false,\"showline\":true,\"ticks\":\"outside\"},\"bgcolor\":\"white\",\"radialaxis\":{\"gridcolor\":\"rgb(232,232,232)\",\"linecolor\":\"rgb(36,36,36)\",\"showgrid\":false,\"showline\":true,\"ticks\":\"outside\"}},\"scene\":{\"xaxis\":{\"backgroundcolor\":\"white\",\"gridcolor\":\"rgb(232,232,232)\",\"gridwidth\":2,\"linecolor\":\"rgb(36,36,36)\",\"showbackground\":true,\"showgrid\":false,\"showline\":true,\"ticks\":\"outside\",\"zeroline\":false,\"zerolinecolor\":\"rgb(36,36,36)\"},\"yaxis\":{\"backgroundcolor\":\"white\",\"gridcolor\":\"rgb(232,232,232)\",\"gridwidth\":2,\"linecolor\":\"rgb(36,36,36)\",\"showbackground\":true,\"showgrid\":false,\"showline\":true,\"ticks\":\"outside\",\"zeroline\":false,\"zerolinecolor\":\"rgb(36,36,36)\"},\"zaxis\":{\"backgroundcolor\":\"white\",\"gridcolor\":\"rgb(232,232,232)\",\"gridwidth\":2,\"linecolor\":\"rgb(36,36,36)\",\"showbackground\":true,\"showgrid\":false,\"showline\":true,\"ticks\":\"outside\",\"zeroline\":false,\"zerolinecolor\":\"rgb(36,36,36)\"}},\"shapedefaults\":{\"fillcolor\":\"black\",\"line\":{\"width\":0},\"opacity\":0.3},\"ternary\":{\"aaxis\":{\"gridcolor\":\"rgb(232,232,232)\",\"linecolor\":\"rgb(36,36,36)\",\"showgrid\":false,\"showline\":true,\"ticks\":\"outside\"},\"baxis\":{\"gridcolor\":\"rgb(232,232,232)\",\"linecolor\":\"rgb(36,36,36)\",\"showgrid\":false,\"showline\":true,\"ticks\":\"outside\"},\"bgcolor\":\"white\",\"caxis\":{\"gridcolor\":\"rgb(232,232,232)\",\"linecolor\":\"rgb(36,36,36)\",\"showgrid\":false,\"showline\":true,\"ticks\":\"outside\"}},\"title\":{\"x\":0.05},\"xaxis\":{\"automargin\":true,\"gridcolor\":\"rgb(232,232,232)\",\"linecolor\":\"rgb(36,36,36)\",\"showgrid\":false,\"showline\":true,\"ticks\":\"outside\",\"title\":{\"standoff\":15},\"zeroline\":false,\"zerolinecolor\":\"rgb(36,36,36)\"},\"yaxis\":{\"automargin\":true,\"gridcolor\":\"rgb(232,232,232)\",\"linecolor\":\"rgb(36,36,36)\",\"showgrid\":false,\"showline\":true,\"ticks\":\"outside\",\"title\":{\"standoff\":15},\"zeroline\":false,\"zerolinecolor\":\"rgb(36,36,36)\"}}},\"xaxis\":{\"anchor\":\"y\",\"domain\":[0.0,1.0],\"title\":{\"text\":\"Personal Computers per 100 People\"}},\"yaxis\":{\"anchor\":\"x\",\"domain\":[0.0,1.0],\"title\":{\"text\":\"Patents Granted\"}},\"coloraxis\":{\"colorbar\":{\"title\":{\"text\":\"Military_expenditure\"}},\"colorscale\":[[0.0,\"#0d0887\"],[0.1111111111111111,\"#46039f\"],[0.2222222222222222,\"#7201a8\"],[0.3333333333333333,\"#9c179e\"],[0.4444444444444444,\"#bd3786\"],[0.5555555555555556,\"#d8576b\"],[0.6666666666666666,\"#ed7953\"],[0.7777777777777778,\"#fb9f3a\"],[0.8888888888888888,\"#fdca26\"],[1.0,\"#f0f921\"]]},\"legend\":{\"tracegroupgap\":0,\"title\":{\"text\":\"Military Expenditure\"}},\"margin\":{\"t\":50,\"l\":50,\"r\":50,\"b\":50},\"font\":{\"family\":\"Calibri\",\"size\":14,\"color\":\"RebeccaPurple\"}},                        {\"displayModeBar\": true, \"modeBarButtonsToRemove\": [\"pan\", \"select\", \"lasso2d\", \"zoomIn\", \"zoomOut\"], \"displaylogo\": false, \"responsive\": true}                    ).then(function(){\n",
       "                            \n",
       "var gd = document.getElementById('94637c8d-5bbd-4955-ac0f-5054fc327d71');\n",
       "var x = new MutationObserver(function (mutations, observer) {{\n",
       "        var display = window.getComputedStyle(gd).display;\n",
       "        if (!display || display === 'none') {{\n",
       "            console.log([gd, 'removed!']);\n",
       "            Plotly.purge(gd);\n",
       "            observer.disconnect();\n",
       "        }}\n",
       "}});\n",
       "\n",
       "// Listen for the removal of the full notebook cells\n",
       "var notebookContainer = gd.closest('#notebook-container');\n",
       "if (notebookContainer) {{\n",
       "    x.observe(notebookContainer, {childList: true});\n",
       "}}\n",
       "\n",
       "// Listen for the clearing of the current output cell\n",
       "var outputEl = gd.closest('.output');\n",
       "if (outputEl) {{\n",
       "    x.observe(outputEl, {childList: true});\n",
       "}}\n",
       "\n",
       "                        })                };                });            </script>        </div>"
      ]
     },
     "metadata": {},
     "output_type": "display_data"
    }
   ],
   "source": [
    "fig = px.scatter(\n",
    "    data_frame=df_mp, \n",
    "    x='Personal_computers_per_100_people', \n",
    "    y='Patents_granted',\n",
    "    color='Military_expenditure',\n",
    "    # hover_data dictionary allows for variables to appear in the hover box without being plotted\n",
    "    hover_data=[\"Country\"] \n",
    ")\n",
    "\n",
    "# customize the layout and appearance of the hover text boxwith hovertemplate\n",
    "fig.update_traces(\n",
    "    hovertemplate=\"<br>\".join([\n",
    "        \"<b>Country:</b> %{customdata[0]}\",                    # bold label, {customdata}, corresponds to the data in the trace.\n",
    "        \"<b>Computers per 100 people:</b> %{x:.1f}\",           # bold label and 1 decimal\n",
    "        \"<b>Patents Granted:</b> %{y:.0f}\",                    # Format y-axis with bold label without decimals\n",
    "        \"<b>Military Expenditure:</b> %{marker.color:.2f}\"     # Format color variable with bold label and 2 decimals\n",
    "    ])\n",
    ")\n",
    "\n",
    "fig.update_layout(\n",
    "    xaxis_title=\"Personal Computers per 100 People\", \n",
    "    yaxis_title=\"Patents Granted\", \n",
    "    legend_title_text=\"Military Expenditure\",\n",
    "    template=\"simple_white\",     # Apply a template theme\n",
    "    margin=dict(l=50, r=50, t=50, b=50),   # Adjust margins\n",
    "    font=dict(\n",
    "        family=\"Calibri\",\n",
    "        size=14,\n",
    "        color=\"RebeccaPurple\"\n",
    "    )\n",
    ")\n",
    "\n",
    "# Customize toolbar options\n",
    "fig.show(config={\n",
    "    'displayModeBar': True,\n",
    "    'modeBarButtonsToRemove': ['pan', 'select', 'lasso2d', 'zoomIn', 'zoomOut'],\n",
    "    'displaylogo': False\n",
    "})"
   ]
  },
  {
   "cell_type": "markdown",
   "metadata": {},
   "source": [
    "# Plotly Express (px) vs. Graph Objects (go)\n",
    "- **Plotly Express (px)** is designed for quick, high-level chart creation. The functions in Plotly Express, which is the recommended entry-point into the plotly library, are all built on top of **graph objects**, and all return instances of plotly.graph_objects.Figure.\n",
    "- **Plotly Graph Objects (go)** gives you low-level control over each part of the chart (like traces, axes, layout, and annotations)."
   ]
  },
  {
   "cell_type": "code",
   "execution_count": 140,
   "metadata": {},
   "outputs": [
    {
     "data": {
      "application/vnd.plotly.v1+json": {
       "config": {
        "plotlyServerURL": "https://plot.ly"
       },
       "data": [
        {
         "hovertemplate": "Personal_computers_per_100_people=%{x}<br>Patents_granted=%{y}<br>Military_expenditure=%{marker.color}<extra></extra>",
         "legendgroup": "",
         "marker": {
          "color": [
           1.4,
           2.87,
           1.04,
           2.72,
           1.78,
           0.88,
           2.37,
           3.02,
           1.16,
           0.83,
           1.13,
           1.62,
           3,
           1.42,
           2.61,
           2.35,
           6.22,
           1.15,
           3.7,
           1.97,
           3.71,
           1.58,
           1.38,
           1.77,
           1.34,
           2.39,
           2.83,
           0.63,
           1.49,
           3.01,
           1.4,
           2.48,
           0.48,
           3.59,
           1.37,
           0.75,
           3.25,
           0.33,
           0.79,
           0.59,
           1.44,
           0,
           2.75,
           1.19,
           4.72,
           0.57,
           9.65,
           1.89,
           0.57,
           0.97,
           5.33,
           1.66,
           2.57,
           4.84,
           3.07,
           1.71,
           1.19,
           0.81,
           2.18,
           1.07,
           0.54,
           2.27,
           0.69,
           0.2,
           0.42,
           0.34,
           1.29,
           3.92,
           3.01,
           2.12,
           1.52,
           1,
           0.7,
           0.68,
           1.62,
           4.15,
           0.98,
           0.75,
           1.37,
           0.88,
           1.94,
           2.26,
           1.97,
           4.07,
           8.05,
           1.74,
           4.68,
           1.74,
           1.5,
           1.47,
           1.05,
           2.6,
           2.24,
           1.94,
           1.54,
           0.95,
           4.62,
           1.07,
           1.15,
           1.63,
           2.84,
           2.3,
           2.32,
           2.7,
           4.07,
           1.32,
           1.11,
           2.65,
           2.25,
           0
          ],
          "coloraxis": "coloraxis",
          "symbol": "circle"
         },
         "mode": "markers",
         "name": "",
         "orientation": "v",
         "showlegend": false,
         "type": "scatter",
         "x": [
          1.2,
          0.9,
          8,
          5.3,
          68.9,
          57.6,
          1.8,
          16.9,
          1.2,
          12.5,
          34.7,
          2.3,
          4.7,
          10.7,
          8.5,
          5.9,
          0.5,
          69.8,
          13.9,
          4.1,
          5.5,
          19.1,
          30.9,
          21.6,
          65.5,
          5.5,
          3.3,
          4.5,
          47.4,
          0.3,
          48.2,
          48.7,
          1.6,
          3.8,
          48.5,
          0.5,
          9,
          1.8,
          3.5,
          1.6,
          14.6,
          47.1,
          1.2,
          1.4,
          10.5,
          49.7,
          73.4,
          31.3,
          6.2,
          54.1,
          5.3,
          1.4,
          54.5,
          17.6,
          1.7,
          21.9,
          15.5,
          62.1,
          6.8,
          0.5,
          0.2,
          19.2,
          31.5,
          16.2,
          10.7,
          2.6,
          11.9,
          2.1,
          10.9,
          0.5,
          68.5,
          49.3,
          3.5,
          0.7,
          57.8,
          0.4,
          4.1,
          5.9,
          9.7,
          4.5,
          19.1,
          13.3,
          11.3,
          13.2,
          34,
          13.88,
          62.2,
          29.6,
          35.5,
          8.3,
          25.4,
          2.7,
          1.8,
          3.3,
          76.1,
          82.3,
          3.3,
          0.7,
          6,
          4.8,
          5.1,
          0.5,
          2.8,
          60,
          76.2,
          13.3,
          8.2,
          1.3,
          1,
          8.4
         ],
         "xaxis": "x",
         "y": [
          502,
          111,
          1587,
          151,
          14496,
          20390,
          19,
          26,
          140,
          3,
          20785,
          47,
          33,
          4740,
          251,
          376,
          5,
          12951,
          601,
          21473,
          372,
          286,
          4332,
          1805,
          16469,
          21,
          757,
          61,
          358,
          1,
          11589,
          53415,
          53,
          256,
          61153,
          65,
          13235,
          6,
          3,
          146,
          1386,
          42,
          2160,
          631,
          881,
          14203,
          1474,
          34899,
          206,
          120018,
          58,
          100,
          45298,
          107,
          65,
          1650,
          1918,
          12176,
          679,
          15,
          2,
          786,
          125,
          3,
          6616,
          230,
          163,
          327,
          102,
          1,
          27482,
          2549,
          136,
          170,
          2448,
          350,
          15,
          26,
          308,
          566,
          2271,
          13840,
          2357,
          18114,
          25,
          6,
          7583,
          803,
          2802,
          5453,
          26626,
          160,
          79,
          70,
          24546,
          21852,
          62,
          8,
          541,
          146,
          1885,
          92,
          11670,
          52593,
          167334,
          55,
          756,
          727,
          63,
          78
         ],
         "yaxis": "y"
        },
        {
         "mode": "lines",
         "type": "scatter",
         "x": [
          0,
          80
         ],
         "y": [
          5000,
          130000
         ]
        }
       ],
       "layout": {
        "coloraxis": {
         "colorbar": {
          "title": {
           "text": "Military_expenditure"
          }
         },
         "colorscale": [
          [
           0,
           "#0d0887"
          ],
          [
           0.1111111111111111,
           "#46039f"
          ],
          [
           0.2222222222222222,
           "#7201a8"
          ],
          [
           0.3333333333333333,
           "#9c179e"
          ],
          [
           0.4444444444444444,
           "#bd3786"
          ],
          [
           0.5555555555555556,
           "#d8576b"
          ],
          [
           0.6666666666666666,
           "#ed7953"
          ],
          [
           0.7777777777777778,
           "#fb9f3a"
          ],
          [
           0.8888888888888888,
           "#fdca26"
          ],
          [
           1,
           "#f0f921"
          ]
         ]
        },
        "legend": {
         "orientation": "h",
         "tracegroupgap": 0,
         "x": 0.5,
         "xanchor": "center",
         "y": 1.02,
         "yanchor": "bottom"
        },
        "margin": {
         "t": 60
        },
        "template": {
         "data": {
          "bar": [
           {
            "error_x": {
             "color": "#2a3f5f"
            },
            "error_y": {
             "color": "#2a3f5f"
            },
            "marker": {
             "line": {
              "color": "#E5ECF6",
              "width": 0.5
             },
             "pattern": {
              "fillmode": "overlay",
              "size": 10,
              "solidity": 0.2
             }
            },
            "type": "bar"
           }
          ],
          "barpolar": [
           {
            "marker": {
             "line": {
              "color": "#E5ECF6",
              "width": 0.5
             },
             "pattern": {
              "fillmode": "overlay",
              "size": 10,
              "solidity": 0.2
             }
            },
            "type": "barpolar"
           }
          ],
          "carpet": [
           {
            "aaxis": {
             "endlinecolor": "#2a3f5f",
             "gridcolor": "white",
             "linecolor": "white",
             "minorgridcolor": "white",
             "startlinecolor": "#2a3f5f"
            },
            "baxis": {
             "endlinecolor": "#2a3f5f",
             "gridcolor": "white",
             "linecolor": "white",
             "minorgridcolor": "white",
             "startlinecolor": "#2a3f5f"
            },
            "type": "carpet"
           }
          ],
          "choropleth": [
           {
            "colorbar": {
             "outlinewidth": 0,
             "ticks": ""
            },
            "type": "choropleth"
           }
          ],
          "contour": [
           {
            "colorbar": {
             "outlinewidth": 0,
             "ticks": ""
            },
            "colorscale": [
             [
              0,
              "#0d0887"
             ],
             [
              0.1111111111111111,
              "#46039f"
             ],
             [
              0.2222222222222222,
              "#7201a8"
             ],
             [
              0.3333333333333333,
              "#9c179e"
             ],
             [
              0.4444444444444444,
              "#bd3786"
             ],
             [
              0.5555555555555556,
              "#d8576b"
             ],
             [
              0.6666666666666666,
              "#ed7953"
             ],
             [
              0.7777777777777778,
              "#fb9f3a"
             ],
             [
              0.8888888888888888,
              "#fdca26"
             ],
             [
              1,
              "#f0f921"
             ]
            ],
            "type": "contour"
           }
          ],
          "contourcarpet": [
           {
            "colorbar": {
             "outlinewidth": 0,
             "ticks": ""
            },
            "type": "contourcarpet"
           }
          ],
          "heatmap": [
           {
            "colorbar": {
             "outlinewidth": 0,
             "ticks": ""
            },
            "colorscale": [
             [
              0,
              "#0d0887"
             ],
             [
              0.1111111111111111,
              "#46039f"
             ],
             [
              0.2222222222222222,
              "#7201a8"
             ],
             [
              0.3333333333333333,
              "#9c179e"
             ],
             [
              0.4444444444444444,
              "#bd3786"
             ],
             [
              0.5555555555555556,
              "#d8576b"
             ],
             [
              0.6666666666666666,
              "#ed7953"
             ],
             [
              0.7777777777777778,
              "#fb9f3a"
             ],
             [
              0.8888888888888888,
              "#fdca26"
             ],
             [
              1,
              "#f0f921"
             ]
            ],
            "type": "heatmap"
           }
          ],
          "heatmapgl": [
           {
            "colorbar": {
             "outlinewidth": 0,
             "ticks": ""
            },
            "colorscale": [
             [
              0,
              "#0d0887"
             ],
             [
              0.1111111111111111,
              "#46039f"
             ],
             [
              0.2222222222222222,
              "#7201a8"
             ],
             [
              0.3333333333333333,
              "#9c179e"
             ],
             [
              0.4444444444444444,
              "#bd3786"
             ],
             [
              0.5555555555555556,
              "#d8576b"
             ],
             [
              0.6666666666666666,
              "#ed7953"
             ],
             [
              0.7777777777777778,
              "#fb9f3a"
             ],
             [
              0.8888888888888888,
              "#fdca26"
             ],
             [
              1,
              "#f0f921"
             ]
            ],
            "type": "heatmapgl"
           }
          ],
          "histogram": [
           {
            "marker": {
             "pattern": {
              "fillmode": "overlay",
              "size": 10,
              "solidity": 0.2
             }
            },
            "type": "histogram"
           }
          ],
          "histogram2d": [
           {
            "colorbar": {
             "outlinewidth": 0,
             "ticks": ""
            },
            "colorscale": [
             [
              0,
              "#0d0887"
             ],
             [
              0.1111111111111111,
              "#46039f"
             ],
             [
              0.2222222222222222,
              "#7201a8"
             ],
             [
              0.3333333333333333,
              "#9c179e"
             ],
             [
              0.4444444444444444,
              "#bd3786"
             ],
             [
              0.5555555555555556,
              "#d8576b"
             ],
             [
              0.6666666666666666,
              "#ed7953"
             ],
             [
              0.7777777777777778,
              "#fb9f3a"
             ],
             [
              0.8888888888888888,
              "#fdca26"
             ],
             [
              1,
              "#f0f921"
             ]
            ],
            "type": "histogram2d"
           }
          ],
          "histogram2dcontour": [
           {
            "colorbar": {
             "outlinewidth": 0,
             "ticks": ""
            },
            "colorscale": [
             [
              0,
              "#0d0887"
             ],
             [
              0.1111111111111111,
              "#46039f"
             ],
             [
              0.2222222222222222,
              "#7201a8"
             ],
             [
              0.3333333333333333,
              "#9c179e"
             ],
             [
              0.4444444444444444,
              "#bd3786"
             ],
             [
              0.5555555555555556,
              "#d8576b"
             ],
             [
              0.6666666666666666,
              "#ed7953"
             ],
             [
              0.7777777777777778,
              "#fb9f3a"
             ],
             [
              0.8888888888888888,
              "#fdca26"
             ],
             [
              1,
              "#f0f921"
             ]
            ],
            "type": "histogram2dcontour"
           }
          ],
          "mesh3d": [
           {
            "colorbar": {
             "outlinewidth": 0,
             "ticks": ""
            },
            "type": "mesh3d"
           }
          ],
          "parcoords": [
           {
            "line": {
             "colorbar": {
              "outlinewidth": 0,
              "ticks": ""
             }
            },
            "type": "parcoords"
           }
          ],
          "pie": [
           {
            "automargin": true,
            "type": "pie"
           }
          ],
          "scatter": [
           {
            "fillpattern": {
             "fillmode": "overlay",
             "size": 10,
             "solidity": 0.2
            },
            "type": "scatter"
           }
          ],
          "scatter3d": [
           {
            "line": {
             "colorbar": {
              "outlinewidth": 0,
              "ticks": ""
             }
            },
            "marker": {
             "colorbar": {
              "outlinewidth": 0,
              "ticks": ""
             }
            },
            "type": "scatter3d"
           }
          ],
          "scattercarpet": [
           {
            "marker": {
             "colorbar": {
              "outlinewidth": 0,
              "ticks": ""
             }
            },
            "type": "scattercarpet"
           }
          ],
          "scattergeo": [
           {
            "marker": {
             "colorbar": {
              "outlinewidth": 0,
              "ticks": ""
             }
            },
            "type": "scattergeo"
           }
          ],
          "scattergl": [
           {
            "marker": {
             "colorbar": {
              "outlinewidth": 0,
              "ticks": ""
             }
            },
            "type": "scattergl"
           }
          ],
          "scattermapbox": [
           {
            "marker": {
             "colorbar": {
              "outlinewidth": 0,
              "ticks": ""
             }
            },
            "type": "scattermapbox"
           }
          ],
          "scatterpolar": [
           {
            "marker": {
             "colorbar": {
              "outlinewidth": 0,
              "ticks": ""
             }
            },
            "type": "scatterpolar"
           }
          ],
          "scatterpolargl": [
           {
            "marker": {
             "colorbar": {
              "outlinewidth": 0,
              "ticks": ""
             }
            },
            "type": "scatterpolargl"
           }
          ],
          "scatterternary": [
           {
            "marker": {
             "colorbar": {
              "outlinewidth": 0,
              "ticks": ""
             }
            },
            "type": "scatterternary"
           }
          ],
          "surface": [
           {
            "colorbar": {
             "outlinewidth": 0,
             "ticks": ""
            },
            "colorscale": [
             [
              0,
              "#0d0887"
             ],
             [
              0.1111111111111111,
              "#46039f"
             ],
             [
              0.2222222222222222,
              "#7201a8"
             ],
             [
              0.3333333333333333,
              "#9c179e"
             ],
             [
              0.4444444444444444,
              "#bd3786"
             ],
             [
              0.5555555555555556,
              "#d8576b"
             ],
             [
              0.6666666666666666,
              "#ed7953"
             ],
             [
              0.7777777777777778,
              "#fb9f3a"
             ],
             [
              0.8888888888888888,
              "#fdca26"
             ],
             [
              1,
              "#f0f921"
             ]
            ],
            "type": "surface"
           }
          ],
          "table": [
           {
            "cells": {
             "fill": {
              "color": "#EBF0F8"
             },
             "line": {
              "color": "white"
             }
            },
            "header": {
             "fill": {
              "color": "#C8D4E3"
             },
             "line": {
              "color": "white"
             }
            },
            "type": "table"
           }
          ]
         },
         "layout": {
          "annotationdefaults": {
           "arrowcolor": "#2a3f5f",
           "arrowhead": 0,
           "arrowwidth": 1
          },
          "autotypenumbers": "strict",
          "coloraxis": {
           "colorbar": {
            "outlinewidth": 0,
            "ticks": ""
           }
          },
          "colorscale": {
           "diverging": [
            [
             0,
             "#8e0152"
            ],
            [
             0.1,
             "#c51b7d"
            ],
            [
             0.2,
             "#de77ae"
            ],
            [
             0.3,
             "#f1b6da"
            ],
            [
             0.4,
             "#fde0ef"
            ],
            [
             0.5,
             "#f7f7f7"
            ],
            [
             0.6,
             "#e6f5d0"
            ],
            [
             0.7,
             "#b8e186"
            ],
            [
             0.8,
             "#7fbc41"
            ],
            [
             0.9,
             "#4d9221"
            ],
            [
             1,
             "#276419"
            ]
           ],
           "sequential": [
            [
             0,
             "#0d0887"
            ],
            [
             0.1111111111111111,
             "#46039f"
            ],
            [
             0.2222222222222222,
             "#7201a8"
            ],
            [
             0.3333333333333333,
             "#9c179e"
            ],
            [
             0.4444444444444444,
             "#bd3786"
            ],
            [
             0.5555555555555556,
             "#d8576b"
            ],
            [
             0.6666666666666666,
             "#ed7953"
            ],
            [
             0.7777777777777778,
             "#fb9f3a"
            ],
            [
             0.8888888888888888,
             "#fdca26"
            ],
            [
             1,
             "#f0f921"
            ]
           ],
           "sequentialminus": [
            [
             0,
             "#0d0887"
            ],
            [
             0.1111111111111111,
             "#46039f"
            ],
            [
             0.2222222222222222,
             "#7201a8"
            ],
            [
             0.3333333333333333,
             "#9c179e"
            ],
            [
             0.4444444444444444,
             "#bd3786"
            ],
            [
             0.5555555555555556,
             "#d8576b"
            ],
            [
             0.6666666666666666,
             "#ed7953"
            ],
            [
             0.7777777777777778,
             "#fb9f3a"
            ],
            [
             0.8888888888888888,
             "#fdca26"
            ],
            [
             1,
             "#f0f921"
            ]
           ]
          },
          "colorway": [
           "#636efa",
           "#EF553B",
           "#00cc96",
           "#ab63fa",
           "#FFA15A",
           "#19d3f3",
           "#FF6692",
           "#B6E880",
           "#FF97FF",
           "#FECB52"
          ],
          "font": {
           "color": "#2a3f5f"
          },
          "geo": {
           "bgcolor": "white",
           "lakecolor": "white",
           "landcolor": "#E5ECF6",
           "showlakes": true,
           "showland": true,
           "subunitcolor": "white"
          },
          "hoverlabel": {
           "align": "left"
          },
          "hovermode": "closest",
          "mapbox": {
           "style": "light"
          },
          "paper_bgcolor": "white",
          "plot_bgcolor": "#E5ECF6",
          "polar": {
           "angularaxis": {
            "gridcolor": "white",
            "linecolor": "white",
            "ticks": ""
           },
           "bgcolor": "#E5ECF6",
           "radialaxis": {
            "gridcolor": "white",
            "linecolor": "white",
            "ticks": ""
           }
          },
          "scene": {
           "xaxis": {
            "backgroundcolor": "#E5ECF6",
            "gridcolor": "white",
            "gridwidth": 2,
            "linecolor": "white",
            "showbackground": true,
            "ticks": "",
            "zerolinecolor": "white"
           },
           "yaxis": {
            "backgroundcolor": "#E5ECF6",
            "gridcolor": "white",
            "gridwidth": 2,
            "linecolor": "white",
            "showbackground": true,
            "ticks": "",
            "zerolinecolor": "white"
           },
           "zaxis": {
            "backgroundcolor": "#E5ECF6",
            "gridcolor": "white",
            "gridwidth": 2,
            "linecolor": "white",
            "showbackground": true,
            "ticks": "",
            "zerolinecolor": "white"
           }
          },
          "shapedefaults": {
           "line": {
            "color": "#2a3f5f"
           }
          },
          "ternary": {
           "aaxis": {
            "gridcolor": "white",
            "linecolor": "white",
            "ticks": ""
           },
           "baxis": {
            "gridcolor": "white",
            "linecolor": "white",
            "ticks": ""
           },
           "bgcolor": "#E5ECF6",
           "caxis": {
            "gridcolor": "white",
            "linecolor": "white",
            "ticks": ""
           }
          },
          "title": {
           "x": 0.05
          },
          "xaxis": {
           "automargin": true,
           "gridcolor": "white",
           "linecolor": "white",
           "ticks": "",
           "title": {
            "standoff": 15
           },
           "zerolinecolor": "white",
           "zerolinewidth": 2
          },
          "yaxis": {
           "automargin": true,
           "gridcolor": "white",
           "linecolor": "white",
           "ticks": "",
           "title": {
            "standoff": 15
           },
           "zerolinecolor": "white",
           "zerolinewidth": 2
          }
         }
        },
        "xaxis": {
         "anchor": "y",
         "domain": [
          0,
          1
         ],
         "title": {
          "text": "Personal_computers_per_100_people"
         }
        },
        "yaxis": {
         "anchor": "x",
         "domain": [
          0,
          1
         ],
         "title": {
          "text": "Patents_granted"
         }
        }
       }
      },
      "text/html": [
       "<div>                            <div id=\"d5c26d34-180e-4546-a47b-4b8f913e3e87\" class=\"plotly-graph-div\" style=\"height:525px; width:100%;\"></div>            <script type=\"text/javascript\">                require([\"plotly\"], function(Plotly) {                    window.PLOTLYENV=window.PLOTLYENV || {};                                    if (document.getElementById(\"d5c26d34-180e-4546-a47b-4b8f913e3e87\")) {                    Plotly.newPlot(                        \"d5c26d34-180e-4546-a47b-4b8f913e3e87\",                        [{\"hovertemplate\":\"Personal_computers_per_100_people=%{x}\\u003cbr\\u003ePatents_granted=%{y}\\u003cbr\\u003eMilitary_expenditure=%{marker.color}\\u003cextra\\u003e\\u003c\\u002fextra\\u003e\",\"legendgroup\":\"\",\"marker\":{\"color\":[1.4,2.87,1.04,2.72,1.78,0.88,2.37,3.02,1.16,0.83,1.13,1.62,3.0,1.42,2.61,2.35,6.22,1.15,3.7,1.97,3.71,1.58,1.38,1.77,1.34,2.39,2.83,0.63,1.49,3.01,1.4,2.48,0.48,3.59,1.37,0.75,3.25,0.33,0.79,0.59,1.44,0.0,2.75,1.19,4.72,0.57,9.65,1.89,0.57,0.97,5.33,1.66,2.57,4.84,3.07,1.71,1.19,0.81,2.18,1.07,0.54,2.27,0.69,0.2,0.42,0.34,1.29,3.92,3.01,2.12,1.52,1.0,0.7,0.68,1.62,4.15,0.98,0.75,1.37,0.88,1.94,2.26,1.97,4.07,8.05,1.74,4.68,1.74,1.5,1.47,1.05,2.6,2.24,1.94,1.54,0.95,4.62,1.07,1.15,1.63,2.84,2.3,2.32,2.7,4.07,1.32,1.11,2.65,2.25,0.0],\"coloraxis\":\"coloraxis\",\"symbol\":\"circle\"},\"mode\":\"markers\",\"name\":\"\",\"orientation\":\"v\",\"showlegend\":false,\"x\":[1.2,0.9,8.0,5.3,68.9,57.6,1.8,16.9,1.2,12.5,34.7,2.3,4.7,10.7,8.5,5.9,0.5,69.8,13.9,4.1,5.5,19.1,30.9,21.6,65.5,5.5,3.3,4.5,47.4,0.3,48.2,48.7,1.6,3.8,48.5,0.5,9.0,1.8,3.5,1.6,14.6,47.1,1.2,1.4,10.5,49.7,73.4,31.3,6.2,54.1,5.3,1.4,54.5,17.6,1.7,21.9,15.5,62.1,6.8,0.5,0.2,19.2,31.5,16.2,10.7,2.6,11.9,2.1,10.9,0.5,68.5,49.3,3.5,0.7,57.8,0.4,4.1,5.9,9.7,4.5,19.1,13.3,11.3,13.2,34.0,13.88,62.2,29.6,35.5,8.3,25.4,2.7,1.8,3.3,76.1,82.3,3.3,0.7,6.0,4.8,5.1,0.5,2.8,60.0,76.2,13.3,8.2,1.3,1.0,8.4],\"xaxis\":\"x\",\"y\":[502.0,111.0,1587.0,151.0,14496.0,20390.0,19.0,26.0,140.0,3.0,20785.0,47.0,33.0,4740.0,251.0,376.0,5.0,12951.0,601.0,21473.0,372.0,286.0,4332.0,1805.0,16469.0,21.0,757.0,61.0,358.0,1.0,11589.0,53415.0,53.0,256.0,61153.0,65.0,13235.0,6.0,3.0,146.0,1386.0,42.0,2160.0,631.0,881.0,14203.0,1474.0,34899.0,206.0,120018.0,58.0,100.0,45298.0,107.0,65.0,1650.0,1918.0,12176.0,679.0,15.0,2.0,786.0,125.0,3.0,6616.0,230.0,163.0,327.0,102.0,1.0,27482.0,2549.0,136.0,170.0,2448.0,350.0,15.0,26.0,308.0,566.0,2271.0,13840.0,2357.0,18114.0,25.0,6.0,7583.0,803.0,2802.0,5453.0,26626.0,160.0,79.0,70.0,24546.0,21852.0,62.0,8.0,541.0,146.0,1885.0,92.0,11670.0,52593.0,167334.0,55.0,756.0,727.0,63.0,78.0],\"yaxis\":\"y\",\"type\":\"scatter\"},{\"mode\":\"lines\",\"x\":[0,80],\"y\":[5000,130000],\"type\":\"scatter\"}],                        {\"template\":{\"data\":{\"histogram2dcontour\":[{\"type\":\"histogram2dcontour\",\"colorbar\":{\"outlinewidth\":0,\"ticks\":\"\"},\"colorscale\":[[0.0,\"#0d0887\"],[0.1111111111111111,\"#46039f\"],[0.2222222222222222,\"#7201a8\"],[0.3333333333333333,\"#9c179e\"],[0.4444444444444444,\"#bd3786\"],[0.5555555555555556,\"#d8576b\"],[0.6666666666666666,\"#ed7953\"],[0.7777777777777778,\"#fb9f3a\"],[0.8888888888888888,\"#fdca26\"],[1.0,\"#f0f921\"]]}],\"choropleth\":[{\"type\":\"choropleth\",\"colorbar\":{\"outlinewidth\":0,\"ticks\":\"\"}}],\"histogram2d\":[{\"type\":\"histogram2d\",\"colorbar\":{\"outlinewidth\":0,\"ticks\":\"\"},\"colorscale\":[[0.0,\"#0d0887\"],[0.1111111111111111,\"#46039f\"],[0.2222222222222222,\"#7201a8\"],[0.3333333333333333,\"#9c179e\"],[0.4444444444444444,\"#bd3786\"],[0.5555555555555556,\"#d8576b\"],[0.6666666666666666,\"#ed7953\"],[0.7777777777777778,\"#fb9f3a\"],[0.8888888888888888,\"#fdca26\"],[1.0,\"#f0f921\"]]}],\"heatmap\":[{\"type\":\"heatmap\",\"colorbar\":{\"outlinewidth\":0,\"ticks\":\"\"},\"colorscale\":[[0.0,\"#0d0887\"],[0.1111111111111111,\"#46039f\"],[0.2222222222222222,\"#7201a8\"],[0.3333333333333333,\"#9c179e\"],[0.4444444444444444,\"#bd3786\"],[0.5555555555555556,\"#d8576b\"],[0.6666666666666666,\"#ed7953\"],[0.7777777777777778,\"#fb9f3a\"],[0.8888888888888888,\"#fdca26\"],[1.0,\"#f0f921\"]]}],\"heatmapgl\":[{\"type\":\"heatmapgl\",\"colorbar\":{\"outlinewidth\":0,\"ticks\":\"\"},\"colorscale\":[[0.0,\"#0d0887\"],[0.1111111111111111,\"#46039f\"],[0.2222222222222222,\"#7201a8\"],[0.3333333333333333,\"#9c179e\"],[0.4444444444444444,\"#bd3786\"],[0.5555555555555556,\"#d8576b\"],[0.6666666666666666,\"#ed7953\"],[0.7777777777777778,\"#fb9f3a\"],[0.8888888888888888,\"#fdca26\"],[1.0,\"#f0f921\"]]}],\"contourcarpet\":[{\"type\":\"contourcarpet\",\"colorbar\":{\"outlinewidth\":0,\"ticks\":\"\"}}],\"contour\":[{\"type\":\"contour\",\"colorbar\":{\"outlinewidth\":0,\"ticks\":\"\"},\"colorscale\":[[0.0,\"#0d0887\"],[0.1111111111111111,\"#46039f\"],[0.2222222222222222,\"#7201a8\"],[0.3333333333333333,\"#9c179e\"],[0.4444444444444444,\"#bd3786\"],[0.5555555555555556,\"#d8576b\"],[0.6666666666666666,\"#ed7953\"],[0.7777777777777778,\"#fb9f3a\"],[0.8888888888888888,\"#fdca26\"],[1.0,\"#f0f921\"]]}],\"surface\":[{\"type\":\"surface\",\"colorbar\":{\"outlinewidth\":0,\"ticks\":\"\"},\"colorscale\":[[0.0,\"#0d0887\"],[0.1111111111111111,\"#46039f\"],[0.2222222222222222,\"#7201a8\"],[0.3333333333333333,\"#9c179e\"],[0.4444444444444444,\"#bd3786\"],[0.5555555555555556,\"#d8576b\"],[0.6666666666666666,\"#ed7953\"],[0.7777777777777778,\"#fb9f3a\"],[0.8888888888888888,\"#fdca26\"],[1.0,\"#f0f921\"]]}],\"mesh3d\":[{\"type\":\"mesh3d\",\"colorbar\":{\"outlinewidth\":0,\"ticks\":\"\"}}],\"scatter\":[{\"fillpattern\":{\"fillmode\":\"overlay\",\"size\":10,\"solidity\":0.2},\"type\":\"scatter\"}],\"parcoords\":[{\"type\":\"parcoords\",\"line\":{\"colorbar\":{\"outlinewidth\":0,\"ticks\":\"\"}}}],\"scatterpolargl\":[{\"type\":\"scatterpolargl\",\"marker\":{\"colorbar\":{\"outlinewidth\":0,\"ticks\":\"\"}}}],\"bar\":[{\"error_x\":{\"color\":\"#2a3f5f\"},\"error_y\":{\"color\":\"#2a3f5f\"},\"marker\":{\"line\":{\"color\":\"#E5ECF6\",\"width\":0.5},\"pattern\":{\"fillmode\":\"overlay\",\"size\":10,\"solidity\":0.2}},\"type\":\"bar\"}],\"scattergeo\":[{\"type\":\"scattergeo\",\"marker\":{\"colorbar\":{\"outlinewidth\":0,\"ticks\":\"\"}}}],\"scatterpolar\":[{\"type\":\"scatterpolar\",\"marker\":{\"colorbar\":{\"outlinewidth\":0,\"ticks\":\"\"}}}],\"histogram\":[{\"marker\":{\"pattern\":{\"fillmode\":\"overlay\",\"size\":10,\"solidity\":0.2}},\"type\":\"histogram\"}],\"scattergl\":[{\"type\":\"scattergl\",\"marker\":{\"colorbar\":{\"outlinewidth\":0,\"ticks\":\"\"}}}],\"scatter3d\":[{\"type\":\"scatter3d\",\"line\":{\"colorbar\":{\"outlinewidth\":0,\"ticks\":\"\"}},\"marker\":{\"colorbar\":{\"outlinewidth\":0,\"ticks\":\"\"}}}],\"scattermapbox\":[{\"type\":\"scattermapbox\",\"marker\":{\"colorbar\":{\"outlinewidth\":0,\"ticks\":\"\"}}}],\"scatterternary\":[{\"type\":\"scatterternary\",\"marker\":{\"colorbar\":{\"outlinewidth\":0,\"ticks\":\"\"}}}],\"scattercarpet\":[{\"type\":\"scattercarpet\",\"marker\":{\"colorbar\":{\"outlinewidth\":0,\"ticks\":\"\"}}}],\"carpet\":[{\"aaxis\":{\"endlinecolor\":\"#2a3f5f\",\"gridcolor\":\"white\",\"linecolor\":\"white\",\"minorgridcolor\":\"white\",\"startlinecolor\":\"#2a3f5f\"},\"baxis\":{\"endlinecolor\":\"#2a3f5f\",\"gridcolor\":\"white\",\"linecolor\":\"white\",\"minorgridcolor\":\"white\",\"startlinecolor\":\"#2a3f5f\"},\"type\":\"carpet\"}],\"table\":[{\"cells\":{\"fill\":{\"color\":\"#EBF0F8\"},\"line\":{\"color\":\"white\"}},\"header\":{\"fill\":{\"color\":\"#C8D4E3\"},\"line\":{\"color\":\"white\"}},\"type\":\"table\"}],\"barpolar\":[{\"marker\":{\"line\":{\"color\":\"#E5ECF6\",\"width\":0.5},\"pattern\":{\"fillmode\":\"overlay\",\"size\":10,\"solidity\":0.2}},\"type\":\"barpolar\"}],\"pie\":[{\"automargin\":true,\"type\":\"pie\"}]},\"layout\":{\"autotypenumbers\":\"strict\",\"colorway\":[\"#636efa\",\"#EF553B\",\"#00cc96\",\"#ab63fa\",\"#FFA15A\",\"#19d3f3\",\"#FF6692\",\"#B6E880\",\"#FF97FF\",\"#FECB52\"],\"font\":{\"color\":\"#2a3f5f\"},\"hovermode\":\"closest\",\"hoverlabel\":{\"align\":\"left\"},\"paper_bgcolor\":\"white\",\"plot_bgcolor\":\"#E5ECF6\",\"polar\":{\"bgcolor\":\"#E5ECF6\",\"angularaxis\":{\"gridcolor\":\"white\",\"linecolor\":\"white\",\"ticks\":\"\"},\"radialaxis\":{\"gridcolor\":\"white\",\"linecolor\":\"white\",\"ticks\":\"\"}},\"ternary\":{\"bgcolor\":\"#E5ECF6\",\"aaxis\":{\"gridcolor\":\"white\",\"linecolor\":\"white\",\"ticks\":\"\"},\"baxis\":{\"gridcolor\":\"white\",\"linecolor\":\"white\",\"ticks\":\"\"},\"caxis\":{\"gridcolor\":\"white\",\"linecolor\":\"white\",\"ticks\":\"\"}},\"coloraxis\":{\"colorbar\":{\"outlinewidth\":0,\"ticks\":\"\"}},\"colorscale\":{\"sequential\":[[0.0,\"#0d0887\"],[0.1111111111111111,\"#46039f\"],[0.2222222222222222,\"#7201a8\"],[0.3333333333333333,\"#9c179e\"],[0.4444444444444444,\"#bd3786\"],[0.5555555555555556,\"#d8576b\"],[0.6666666666666666,\"#ed7953\"],[0.7777777777777778,\"#fb9f3a\"],[0.8888888888888888,\"#fdca26\"],[1.0,\"#f0f921\"]],\"sequentialminus\":[[0.0,\"#0d0887\"],[0.1111111111111111,\"#46039f\"],[0.2222222222222222,\"#7201a8\"],[0.3333333333333333,\"#9c179e\"],[0.4444444444444444,\"#bd3786\"],[0.5555555555555556,\"#d8576b\"],[0.6666666666666666,\"#ed7953\"],[0.7777777777777778,\"#fb9f3a\"],[0.8888888888888888,\"#fdca26\"],[1.0,\"#f0f921\"]],\"diverging\":[[0,\"#8e0152\"],[0.1,\"#c51b7d\"],[0.2,\"#de77ae\"],[0.3,\"#f1b6da\"],[0.4,\"#fde0ef\"],[0.5,\"#f7f7f7\"],[0.6,\"#e6f5d0\"],[0.7,\"#b8e186\"],[0.8,\"#7fbc41\"],[0.9,\"#4d9221\"],[1,\"#276419\"]]},\"xaxis\":{\"gridcolor\":\"white\",\"linecolor\":\"white\",\"ticks\":\"\",\"title\":{\"standoff\":15},\"zerolinecolor\":\"white\",\"automargin\":true,\"zerolinewidth\":2},\"yaxis\":{\"gridcolor\":\"white\",\"linecolor\":\"white\",\"ticks\":\"\",\"title\":{\"standoff\":15},\"zerolinecolor\":\"white\",\"automargin\":true,\"zerolinewidth\":2},\"scene\":{\"xaxis\":{\"backgroundcolor\":\"#E5ECF6\",\"gridcolor\":\"white\",\"linecolor\":\"white\",\"showbackground\":true,\"ticks\":\"\",\"zerolinecolor\":\"white\",\"gridwidth\":2},\"yaxis\":{\"backgroundcolor\":\"#E5ECF6\",\"gridcolor\":\"white\",\"linecolor\":\"white\",\"showbackground\":true,\"ticks\":\"\",\"zerolinecolor\":\"white\",\"gridwidth\":2},\"zaxis\":{\"backgroundcolor\":\"#E5ECF6\",\"gridcolor\":\"white\",\"linecolor\":\"white\",\"showbackground\":true,\"ticks\":\"\",\"zerolinecolor\":\"white\",\"gridwidth\":2}},\"shapedefaults\":{\"line\":{\"color\":\"#2a3f5f\"}},\"annotationdefaults\":{\"arrowcolor\":\"#2a3f5f\",\"arrowhead\":0,\"arrowwidth\":1},\"geo\":{\"bgcolor\":\"white\",\"landcolor\":\"#E5ECF6\",\"subunitcolor\":\"white\",\"showland\":true,\"showlakes\":true,\"lakecolor\":\"white\"},\"title\":{\"x\":0.05},\"mapbox\":{\"style\":\"light\"}}},\"xaxis\":{\"anchor\":\"y\",\"domain\":[0.0,1.0],\"title\":{\"text\":\"Personal_computers_per_100_people\"}},\"yaxis\":{\"anchor\":\"x\",\"domain\":[0.0,1.0],\"title\":{\"text\":\"Patents_granted\"}},\"coloraxis\":{\"colorbar\":{\"title\":{\"text\":\"Military_expenditure\"}},\"colorscale\":[[0.0,\"#0d0887\"],[0.1111111111111111,\"#46039f\"],[0.2222222222222222,\"#7201a8\"],[0.3333333333333333,\"#9c179e\"],[0.4444444444444444,\"#bd3786\"],[0.5555555555555556,\"#d8576b\"],[0.6666666666666666,\"#ed7953\"],[0.7777777777777778,\"#fb9f3a\"],[0.8888888888888888,\"#fdca26\"],[1.0,\"#f0f921\"]]},\"legend\":{\"tracegroupgap\":0,\"orientation\":\"h\",\"yanchor\":\"bottom\",\"y\":1.02,\"xanchor\":\"center\",\"x\":0.5},\"margin\":{\"t\":60}},                        {\"responsive\": true}                    ).then(function(){\n",
       "                            \n",
       "var gd = document.getElementById('d5c26d34-180e-4546-a47b-4b8f913e3e87');\n",
       "var x = new MutationObserver(function (mutations, observer) {{\n",
       "        var display = window.getComputedStyle(gd).display;\n",
       "        if (!display || display === 'none') {{\n",
       "            console.log([gd, 'removed!']);\n",
       "            Plotly.purge(gd);\n",
       "            observer.disconnect();\n",
       "        }}\n",
       "}});\n",
       "\n",
       "// Listen for the removal of the full notebook cells\n",
       "var notebookContainer = gd.closest('#notebook-container');\n",
       "if (notebookContainer) {{\n",
       "    x.observe(notebookContainer, {childList: true});\n",
       "}}\n",
       "\n",
       "// Listen for the clearing of the current output cell\n",
       "var outputEl = gd.closest('.output');\n",
       "if (outputEl) {{\n",
       "    x.observe(outputEl, {childList: true});\n",
       "}}\n",
       "\n",
       "                        })                };                });            </script>        </div>"
      ]
     },
     "metadata": {},
     "output_type": "display_data"
    }
   ],
   "source": [
    "import plotly.express as px\n",
    "import plotly.graph_objects as go\n",
    "\n",
    "# Simple scatter plot with Plotly Express\n",
    "fig = px.scatter(data_frame=df_mp, \n",
    "    x='Personal_computers_per_100_people', \n",
    "    y='Patents_granted',\n",
    "    color='Military_expenditure',\n",
    ")\n",
    "\n",
    "# Add your own trendline using Graph Objects\n",
    "fig.add_trace(go.Scatter(x=[0, 80], y=[5000, 130000], mode='lines'))\n",
    "\n",
    "# Adjust the legend to be horizontal and positioned outside the plot area\n",
    "fig.update_layout(\n",
    "    legend=dict(\n",
    "        orientation=\"h\",        # Horizontal orientation\n",
    "        yanchor=\"bottom\",        # Anchor the legend at the bottom\n",
    "        y=1.02,                  # Position it above the plot\n",
    "        xanchor=\"center\",        # Center it horizontally\n",
    "        x=0.5,\n",
    "    )\n",
    ")\n",
    "\n",
    "fig.show()"
   ]
  },
  {
   "cell_type": "markdown",
   "metadata": {},
   "source": [
    "# Inspecting the Figure as a Dictionary\n",
    "A Plotly figure can be represented as a dictionary-like structure. You can inspect this structure to see all the elements, trace names, and layout properties that are available in the figure."
   ]
  },
  {
   "cell_type": "code",
   "execution_count": null,
   "metadata": {},
   "outputs": [],
   "source": [
    "# Print the figure structure as a dictionary\n",
    "fig_dict = fig.to_dict()\n",
    "print(fig_dict)"
   ]
  },
  {
   "cell_type": "markdown",
   "metadata": {},
   "source": [
    "# Mixed Subplots\n",
    "Plotly Express does not support creating figures with arbitrary mixed subplots i.e. figures with subplots of different types. Plotly Express only supports facet plots and marginal distribution subplots. To make a figure with mixed subplots, use the make_subplots() function in conjunction with graph objects as documented below."
   ]
  },
  {
   "cell_type": "code",
   "execution_count": 185,
   "metadata": {},
   "outputs": [
    {
     "data": {
      "application/vnd.plotly.v1+json": {
       "config": {
        "displayModeBar": true,
        "displaylogo": false,
        "modeBarButtonsToRemove": [
         "pan",
         "select",
         "lasso2d",
         "zoomIn",
         "zoomOut",
         "zoom",
         "autoScale",
         "resetScale"
        ],
        "plotlyServerURL": "https://plot.ly"
       },
       "data": [
        {
         "mode": "markers",
         "name": "Military Expenditure vs Patents",
         "type": "scatter",
         "x": [
          1.4,
          2.87,
          1.04,
          2.72,
          1.78,
          0.88,
          2.37,
          3.02,
          1.16,
          0.83,
          1.13,
          1.62,
          3,
          1.42,
          2.61,
          2.35,
          6.22,
          1.15,
          3.7,
          1.97,
          3.71,
          1.58,
          1.38,
          1.77,
          1.34,
          2.39,
          2.83,
          0.63,
          1.49,
          3.01,
          1.4,
          2.48,
          0.48,
          3.59,
          1.37,
          0.75,
          3.25,
          0.33,
          0.79,
          0.59,
          1.44,
          0,
          2.75,
          1.19,
          4.72,
          0.57,
          9.65,
          1.89,
          0.57,
          0.97,
          5.33,
          1.66,
          2.57,
          4.84,
          3.07,
          1.71,
          1.19,
          0.81,
          2.18,
          1.07,
          0.54,
          2.27,
          0.69,
          0.2,
          0.42,
          0.34,
          1.29,
          3.92,
          3.01,
          2.12,
          1.52,
          1,
          0.7,
          0.68,
          1.62,
          4.15,
          0.98,
          0.75,
          1.37,
          0.88,
          1.94,
          2.26,
          1.97,
          4.07,
          8.05,
          1.74,
          4.68,
          1.74,
          1.5,
          1.47,
          1.05,
          2.6,
          2.24,
          1.94,
          1.54,
          0.95,
          4.62,
          1.07,
          1.15,
          1.63,
          2.84,
          2.3,
          2.32,
          2.7,
          4.07,
          1.32,
          1.11,
          2.65,
          2.25,
          0
         ],
         "xaxis": "x",
         "y": [
          502,
          111,
          1587,
          151,
          14496,
          20390,
          19,
          26,
          140,
          3,
          20785,
          47,
          33,
          4740,
          251,
          376,
          5,
          12951,
          601,
          21473,
          372,
          286,
          4332,
          1805,
          16469,
          21,
          757,
          61,
          358,
          1,
          11589,
          53415,
          53,
          256,
          61153,
          65,
          13235,
          6,
          3,
          146,
          1386,
          42,
          2160,
          631,
          881,
          14203,
          1474,
          34899,
          206,
          120018,
          58,
          100,
          45298,
          107,
          65,
          1650,
          1918,
          12176,
          679,
          15,
          2,
          786,
          125,
          3,
          6616,
          230,
          163,
          327,
          102,
          1,
          27482,
          2549,
          136,
          170,
          2448,
          350,
          15,
          26,
          308,
          566,
          2271,
          13840,
          2357,
          18114,
          25,
          6,
          7583,
          803,
          2802,
          5453,
          26626,
          160,
          79,
          70,
          24546,
          21852,
          62,
          8,
          541,
          146,
          1885,
          92,
          11670,
          52593,
          167334,
          55,
          756,
          727,
          63,
          78
         ],
         "yaxis": "y"
        },
        {
         "line": {
          "color": "red"
         },
         "mode": "lines",
         "name": "Trendline (Military Expenditure)",
         "type": "scatter",
         "x": [
          1.4,
          2.87,
          1.04,
          2.72,
          1.78,
          0.88,
          2.37,
          3.02,
          1.16,
          0.83,
          1.13,
          1.62,
          3,
          1.42,
          2.61,
          2.35,
          6.22,
          1.15,
          3.7,
          1.97,
          3.71,
          1.58,
          1.38,
          1.77,
          1.34,
          2.39,
          2.83,
          0.63,
          1.49,
          3.01,
          1.4,
          2.48,
          0.48,
          3.59,
          1.37,
          0.75,
          3.25,
          0.33,
          0.79,
          0.59,
          1.44,
          0,
          2.75,
          1.19,
          4.72,
          0.57,
          9.65,
          1.89,
          0.57,
          0.97,
          5.33,
          1.66,
          2.57,
          4.84,
          3.07,
          1.71,
          1.19,
          0.81,
          2.18,
          1.07,
          0.54,
          2.27,
          0.69,
          0.2,
          0.42,
          0.34,
          1.29,
          3.92,
          3.01,
          2.12,
          1.52,
          1,
          0.7,
          0.68,
          1.62,
          4.15,
          0.98,
          0.75,
          1.37,
          0.88,
          1.94,
          2.26,
          1.97,
          4.07,
          8.05,
          1.74,
          4.68,
          1.74,
          1.5,
          1.47,
          1.05,
          2.6,
          2.24,
          1.94,
          1.54,
          0.95,
          4.62,
          1.07,
          1.15,
          1.63,
          2.84,
          2.3,
          2.32,
          2.7,
          4.07,
          1.32,
          1.11,
          2.65,
          2.25,
          0
         ],
         "xaxis": "x",
         "y": [
          7939.385817159655,
          8618.441938138229,
          7773.08635896082,
          8549.150497222048,
          8114.924134147313,
          7699.175488650227,
          8387.470468417625,
          8687.73337905441,
          7828.519511693765,
          7676.078341678167,
          7814.6612235105285,
          8041.01326383672,
          8678.494520265587,
          7948.624675948478,
          8498.336773883515,
          8378.231609628801,
          10165.950785266274,
          7823.900082299353,
          9001.854577874432,
          8202.693292641143,
          9006.474007268844,
          8022.535546259072,
          7930.14695837083,
          8110.304704752902,
          7911.669240793182,
          8396.70932720645,
          8599.964220560581,
          7583.689753789925,
          7980.960681709364,
          8683.113949659999,
          7939.385817159655,
          8438.284191756158,
          7514.398312873744,
          8951.040854535899,
          7925.527528976419,
          7639.12290652287,
          8793.980255125887,
          7445.106871957563,
          7657.600624100518,
          7565.212036212277,
          7957.863534737303,
          7292.6657019419645,
          8563.008785405284,
          7842.377799877001,
          9473.036376104463,
          7555.973177423452,
          11750.415067549615,
          8165.737857485846,
          7555.973177423452,
          7740.7503531999355,
          9754.8215691636,
          8059.490981414368,
          8479.859056305868,
          9528.469528837408,
          8710.830526026471,
          8082.588128386429,
          7842.377799877001,
          7666.839482889342,
          8299.701309923796,
          7786.944647144056,
          7542.114889240216,
          8341.276174473505,
          7611.406330156397,
          7385.054289830206,
          7486.681736507271,
          7449.726301351975,
          7888.572093821122,
          9103.482024551497,
          8683.113949659999,
          8271.984733557323,
          7994.8189698926,
          7754.608641383172,
          7616.025759550809,
          7606.786900761986,
          8041.01326383672,
          9209.728900622975,
          7745.369782594347,
          7639.12290652287,
          7925.527528976419,
          7699.175488650227,
          8188.8350044579065,
          8336.656745079094,
          8202.693292641143,
          9172.773465467679,
          11011.306364443684,
          8096.446416569665,
          9454.558658526814,
          8096.446416569665,
          7985.580111103775,
          7971.721822920539,
          7777.7057883552325,
          8493.717344489103,
          8327.417886290268,
          8188.8350044579065,
          8004.057828681423,
          7731.511494411111,
          9426.842082160343,
          7786.944647144056,
          7823.900082299353,
          8045.632693231132,
          8604.583649954993,
          8355.13446265674,
          8364.373321445566,
          8539.911638433225,
          9172.773465467679,
          7902.430382004358,
          7805.422364721705,
          8516.814491461164,
          8332.03731568468,
          7292.6657019419645
         ],
         "yaxis": "y"
        },
        {
         "mode": "markers",
         "name": "Personal Computers vs Patents",
         "type": "scatter",
         "x": [
          1.2,
          0.9,
          8,
          5.3,
          68.9,
          57.6,
          1.8,
          16.9,
          1.2,
          12.5,
          34.7,
          2.3,
          4.7,
          10.7,
          8.5,
          5.9,
          0.5,
          69.8,
          13.9,
          4.1,
          5.5,
          19.1,
          30.9,
          21.6,
          65.5,
          5.5,
          3.3,
          4.5,
          47.4,
          0.3,
          48.2,
          48.7,
          1.6,
          3.8,
          48.5,
          0.5,
          9,
          1.8,
          3.5,
          1.6,
          14.6,
          47.1,
          1.2,
          1.4,
          10.5,
          49.7,
          73.4,
          31.3,
          6.2,
          54.1,
          5.3,
          1.4,
          54.5,
          17.6,
          1.7,
          21.9,
          15.5,
          62.1,
          6.8,
          0.5,
          0.2,
          19.2,
          31.5,
          16.2,
          10.7,
          2.6,
          11.9,
          2.1,
          10.9,
          0.5,
          68.5,
          49.3,
          3.5,
          0.7,
          57.8,
          0.4,
          4.1,
          5.9,
          9.7,
          4.5,
          19.1,
          13.3,
          11.3,
          13.2,
          34,
          13.88,
          62.2,
          29.6,
          35.5,
          8.3,
          25.4,
          2.7,
          1.8,
          3.3,
          76.1,
          82.3,
          3.3,
          0.7,
          6,
          4.8,
          5.1,
          0.5,
          2.8,
          60,
          76.2,
          13.3,
          8.2,
          1.3,
          1,
          8.4
         ],
         "xaxis": "x2",
         "y": [
          502,
          111,
          1587,
          151,
          14496,
          20390,
          19,
          26,
          140,
          3,
          20785,
          47,
          33,
          4740,
          251,
          376,
          5,
          12951,
          601,
          21473,
          372,
          286,
          4332,
          1805,
          16469,
          21,
          757,
          61,
          358,
          1,
          11589,
          53415,
          53,
          256,
          61153,
          65,
          13235,
          6,
          3,
          146,
          1386,
          42,
          2160,
          631,
          881,
          14203,
          1474,
          34899,
          206,
          120018,
          58,
          100,
          45298,
          107,
          65,
          1650,
          1918,
          12176,
          679,
          15,
          2,
          786,
          125,
          3,
          6616,
          230,
          163,
          327,
          102,
          1,
          27482,
          2549,
          136,
          170,
          2448,
          350,
          15,
          26,
          308,
          566,
          2271,
          13840,
          2357,
          18114,
          25,
          6,
          7583,
          803,
          2802,
          5453,
          26626,
          160,
          79,
          70,
          24546,
          21852,
          62,
          8,
          541,
          146,
          1885,
          92,
          11670,
          52593,
          167334,
          55,
          756,
          727,
          63,
          78
         ],
         "yaxis": "y2"
        },
        {
         "line": {
          "color": "blue"
         },
         "mode": "lines",
         "name": "Trendline (Personal Computers)",
         "type": "scatter",
         "x": [
          1.2,
          0.9,
          8,
          5.3,
          68.9,
          57.6,
          1.8,
          16.9,
          1.2,
          12.5,
          34.7,
          2.3,
          4.7,
          10.7,
          8.5,
          5.9,
          0.5,
          69.8,
          13.9,
          4.1,
          5.5,
          19.1,
          30.9,
          21.6,
          65.5,
          5.5,
          3.3,
          4.5,
          47.4,
          0.3,
          48.2,
          48.7,
          1.6,
          3.8,
          48.5,
          0.5,
          9,
          1.8,
          3.5,
          1.6,
          14.6,
          47.1,
          1.2,
          1.4,
          10.5,
          49.7,
          73.4,
          31.3,
          6.2,
          54.1,
          5.3,
          1.4,
          54.5,
          17.6,
          1.7,
          21.9,
          15.5,
          62.1,
          6.8,
          0.5,
          0.2,
          19.2,
          31.5,
          16.2,
          10.7,
          2.6,
          11.9,
          2.1,
          10.9,
          0.5,
          68.5,
          49.3,
          3.5,
          0.7,
          57.8,
          0.4,
          4.1,
          5.9,
          9.7,
          4.5,
          19.1,
          13.3,
          11.3,
          13.2,
          34,
          13.88,
          62.2,
          29.6,
          35.5,
          8.3,
          25.4,
          2.7,
          1.8,
          3.3,
          76.1,
          82.3,
          3.3,
          0.7,
          6,
          4.8,
          5.1,
          0.5,
          2.8,
          60,
          76.2,
          13.3,
          8.2,
          1.3,
          1,
          8.4
         ],
         "xaxis": "x2",
         "y": [
          -1168.2121156769783,
          -1325.057444524723,
          2386.94867153857,
          975.3407119088672,
          34226.55042763076,
          28318.709707699043,
          -854.5214579814887,
          7040.026760688331,
          -1168.2121156769783,
          4739.628604254742,
          16346.18293898786,
          -593.1125765685808,
          661.6500542133779,
          3798.5566311682733,
          2648.3575529514783,
          1289.031369604357,
          -1534.1845496550495,
          34697.086414173995,
          5471.573472210885,
          347.9593965178881,
          1079.9042644740305,
          8190.2258389051285,
          14359.475440249757,
          9497.270245969668,
          32448.97003402299,
          1079.9042644740305,
          -70.29481374276475,
          557.0865016482146,
          22985.968526875717,
          -1638.7481022202128,
          23404.222737136373,
          23665.63161854928,
          -959.0850105466518,
          191.11406767014319,
          23561.068065984116,
          -1534.1845496550495,
          2909.7664343643864,
          -854.5214579814887,
          34.26873882239852,
          -959.0850105466518,
          5837.545906188955,
          22829.123198027974,
          -1168.2121156769783,
          -1063.6485631118153,
          3693.99307860311,
          24188.449381375096,
          36579.23036034693,
          14568.602545380083,
          1445.876698452102,
          26488.847537808688,
          975.3407119088672,
          -1063.6485631118153,
          26697.97464293901,
          7405.999194666404,
          -906.8032342640703,
          9654.115574817411,
          6308.08189273219,
          30671.389640415215,
          1759.5673561475912,
          -1534.1845496550495,
          -1691.0298785027942,
          8242.50761518771,
          14673.166097945248,
          6674.054326710261,
          3798.5566311682733,
          -436.26724772083594,
          4425.937946559253,
          -697.6761291337439,
          3903.1201837334365,
          -1534.1845496550495,
          34017.423322500435,
          23979.322276244766,
          34.26873882239852,
          -1429.6209970898863,
          28423.273260264203,
          -1586.4663259376312,
          347.9593965178881,
          1289.031369604357,
          3275.738868342457,
          557.0865016482146,
          8190.2258389051285,
          5157.882814515395,
          4112.247288863763,
          5105.601038232813,
          15980.210505009787,
          5461.117116954369,
          30723.671416697798,
          13679.812348576197,
          16764.437149248508,
          2543.794000386315,
          11483.977744707769,
          -383.9854714382543,
          -854.5214579814887,
          -70.29481374276475,
          37990.83831997663,
          41232.3084494967,
          -70.29481374276475,
          -1429.6209970898863,
          1341.3131458869386,
          713.931830495959,
          870.7771593437039,
          -1534.1845496550495,
          -331.7036951556729,
          29573.472338481,
          38043.12009625922,
          5157.882814515395,
          2491.5122241037334,
          -1115.9303393943967,
          -1272.7756682421414,
          2596.0757766688967
         ],
         "yaxis": "y2"
        }
       ],
       "layout": {
        "font": {
         "size": 14
        },
        "legend": {
         "orientation": "h",
         "x": 0.5,
         "xanchor": "center",
         "y": 1.04,
         "yanchor": "bottom"
        },
        "margin": {
         "b": 50,
         "l": 50,
         "r": 50,
         "t": 50
        },
        "template": {
         "data": {
          "pie": [
           {
            "automargin": true,
            "type": "pie"
           }
          ],
          "scatter": [
           {
            "line": {
             "width": 3
            },
            "marker": {
             "size": 9
            },
            "type": "scatter"
           }
          ],
          "scatter3d": [
           {
            "line": {
             "width": 3
            },
            "marker": {
             "size": 9
            },
            "type": "scatter3d"
           }
          ],
          "scattergeo": [
           {
            "line": {
             "width": 3
            },
            "marker": {
             "size": 9
            },
            "type": "scattergeo"
           }
          ],
          "scattergl": [
           {
            "line": {
             "width": 3
            },
            "marker": {
             "size": 9
            },
            "type": "scattergl"
           }
          ],
          "scatterpolar": [
           {
            "line": {
             "width": 3
            },
            "marker": {
             "size": 9
            },
            "type": "scatterpolar"
           }
          ],
          "scatterpolargl": [
           {
            "line": {
             "width": 3
            },
            "marker": {
             "size": 9
            },
            "type": "scatterpolargl"
           }
          ],
          "scatterternary": [
           {
            "line": {
             "width": 3
            },
            "marker": {
             "size": 9
            },
            "type": "scatterternary"
           }
          ],
          "table": [
           {
            "cells": {
             "height": 30
            },
            "header": {
             "height": 36
            },
            "type": "table"
           }
          ]
         },
         "layout": {
          "font": {
           "size": 18
          },
          "xaxis": {
           "title": {
            "standoff": 15
           }
          },
          "yaxis": {
           "title": {
            "standoff": 15
           }
          }
         }
        },
        "xaxis": {
         "anchor": "y",
         "domain": [
          0,
          0.45
         ]
        },
        "xaxis2": {
         "anchor": "y2",
         "domain": [
          0.55,
          1
         ]
        },
        "yaxis": {
         "anchor": "x",
         "domain": [
          0,
          1
         ]
        },
        "yaxis2": {
         "anchor": "x2",
         "domain": [
          0,
          1
         ]
        }
       }
      },
      "text/html": [
       "<div>                            <div id=\"ed16eefa-cec7-4213-9220-17190bdbd954\" class=\"plotly-graph-div\" style=\"height:525px; width:100%;\"></div>            <script type=\"text/javascript\">                require([\"plotly\"], function(Plotly) {                    window.PLOTLYENV=window.PLOTLYENV || {};                                    if (document.getElementById(\"ed16eefa-cec7-4213-9220-17190bdbd954\")) {                    Plotly.newPlot(                        \"ed16eefa-cec7-4213-9220-17190bdbd954\",                        [{\"mode\":\"markers\",\"name\":\"Military Expenditure vs Patents\",\"x\":[1.4,2.87,1.04,2.72,1.78,0.88,2.37,3.02,1.16,0.83,1.13,1.62,3.0,1.42,2.61,2.35,6.22,1.15,3.7,1.97,3.71,1.58,1.38,1.77,1.34,2.39,2.83,0.63,1.49,3.01,1.4,2.48,0.48,3.59,1.37,0.75,3.25,0.33,0.79,0.59,1.44,0.0,2.75,1.19,4.72,0.57,9.65,1.89,0.57,0.97,5.33,1.66,2.57,4.84,3.07,1.71,1.19,0.81,2.18,1.07,0.54,2.27,0.69,0.2,0.42,0.34,1.29,3.92,3.01,2.12,1.52,1.0,0.7,0.68,1.62,4.15,0.98,0.75,1.37,0.88,1.94,2.26,1.97,4.07,8.05,1.74,4.68,1.74,1.5,1.47,1.05,2.6,2.24,1.94,1.54,0.95,4.62,1.07,1.15,1.63,2.84,2.3,2.32,2.7,4.07,1.32,1.11,2.65,2.25,0.0],\"y\":[502.0,111.0,1587.0,151.0,14496.0,20390.0,19.0,26.0,140.0,3.0,20785.0,47.0,33.0,4740.0,251.0,376.0,5.0,12951.0,601.0,21473.0,372.0,286.0,4332.0,1805.0,16469.0,21.0,757.0,61.0,358.0,1.0,11589.0,53415.0,53.0,256.0,61153.0,65.0,13235.0,6.0,3.0,146.0,1386.0,42.0,2160.0,631.0,881.0,14203.0,1474.0,34899.0,206.0,120018.0,58.0,100.0,45298.0,107.0,65.0,1650.0,1918.0,12176.0,679.0,15.0,2.0,786.0,125.0,3.0,6616.0,230.0,163.0,327.0,102.0,1.0,27482.0,2549.0,136.0,170.0,2448.0,350.0,15.0,26.0,308.0,566.0,2271.0,13840.0,2357.0,18114.0,25.0,6.0,7583.0,803.0,2802.0,5453.0,26626.0,160.0,79.0,70.0,24546.0,21852.0,62.0,8.0,541.0,146.0,1885.0,92.0,11670.0,52593.0,167334.0,55.0,756.0,727.0,63.0,78.0],\"type\":\"scatter\",\"xaxis\":\"x\",\"yaxis\":\"y\"},{\"line\":{\"color\":\"red\"},\"mode\":\"lines\",\"name\":\"Trendline (Military Expenditure)\",\"x\":[1.4,2.87,1.04,2.72,1.78,0.88,2.37,3.02,1.16,0.83,1.13,1.62,3.0,1.42,2.61,2.35,6.22,1.15,3.7,1.97,3.71,1.58,1.38,1.77,1.34,2.39,2.83,0.63,1.49,3.01,1.4,2.48,0.48,3.59,1.37,0.75,3.25,0.33,0.79,0.59,1.44,0.0,2.75,1.19,4.72,0.57,9.65,1.89,0.57,0.97,5.33,1.66,2.57,4.84,3.07,1.71,1.19,0.81,2.18,1.07,0.54,2.27,0.69,0.2,0.42,0.34,1.29,3.92,3.01,2.12,1.52,1.0,0.7,0.68,1.62,4.15,0.98,0.75,1.37,0.88,1.94,2.26,1.97,4.07,8.05,1.74,4.68,1.74,1.5,1.47,1.05,2.6,2.24,1.94,1.54,0.95,4.62,1.07,1.15,1.63,2.84,2.3,2.32,2.7,4.07,1.32,1.11,2.65,2.25,0.0],\"y\":[7939.385817159655,8618.441938138229,7773.08635896082,8549.150497222048,8114.924134147313,7699.175488650227,8387.470468417625,8687.73337905441,7828.519511693765,7676.078341678167,7814.6612235105285,8041.01326383672,8678.494520265587,7948.624675948478,8498.336773883515,8378.231609628801,10165.950785266274,7823.900082299353,9001.854577874432,8202.693292641143,9006.474007268844,8022.535546259072,7930.14695837083,8110.304704752902,7911.669240793182,8396.70932720645,8599.964220560581,7583.689753789925,7980.960681709364,8683.113949659999,7939.385817159655,8438.284191756158,7514.398312873744,8951.040854535899,7925.527528976419,7639.12290652287,8793.980255125887,7445.106871957563,7657.600624100518,7565.212036212277,7957.863534737303,7292.6657019419645,8563.008785405284,7842.377799877001,9473.036376104463,7555.973177423452,11750.415067549615,8165.737857485846,7555.973177423452,7740.7503531999355,9754.8215691636,8059.490981414368,8479.859056305868,9528.469528837408,8710.830526026471,8082.588128386429,7842.377799877001,7666.839482889342,8299.701309923796,7786.944647144056,7542.114889240216,8341.276174473505,7611.406330156397,7385.054289830206,7486.681736507271,7449.726301351975,7888.572093821122,9103.482024551497,8683.113949659999,8271.984733557323,7994.8189698926,7754.608641383172,7616.025759550809,7606.786900761986,8041.01326383672,9209.728900622975,7745.369782594347,7639.12290652287,7925.527528976419,7699.175488650227,8188.8350044579065,8336.656745079094,8202.693292641143,9172.773465467679,11011.306364443684,8096.446416569665,9454.558658526814,8096.446416569665,7985.580111103775,7971.721822920539,7777.7057883552325,8493.717344489103,8327.417886290268,8188.8350044579065,8004.057828681423,7731.511494411111,9426.842082160343,7786.944647144056,7823.900082299353,8045.632693231132,8604.583649954993,8355.13446265674,8364.373321445566,8539.911638433225,9172.773465467679,7902.430382004358,7805.422364721705,8516.814491461164,8332.03731568468,7292.6657019419645],\"type\":\"scatter\",\"xaxis\":\"x\",\"yaxis\":\"y\"},{\"mode\":\"markers\",\"name\":\"Personal Computers vs Patents\",\"x\":[1.2,0.9,8.0,5.3,68.9,57.6,1.8,16.9,1.2,12.5,34.7,2.3,4.7,10.7,8.5,5.9,0.5,69.8,13.9,4.1,5.5,19.1,30.9,21.6,65.5,5.5,3.3,4.5,47.4,0.3,48.2,48.7,1.6,3.8,48.5,0.5,9.0,1.8,3.5,1.6,14.6,47.1,1.2,1.4,10.5,49.7,73.4,31.3,6.2,54.1,5.3,1.4,54.5,17.6,1.7,21.9,15.5,62.1,6.8,0.5,0.2,19.2,31.5,16.2,10.7,2.6,11.9,2.1,10.9,0.5,68.5,49.3,3.5,0.7,57.8,0.4,4.1,5.9,9.7,4.5,19.1,13.3,11.3,13.2,34.0,13.88,62.2,29.6,35.5,8.3,25.4,2.7,1.8,3.3,76.1,82.3,3.3,0.7,6.0,4.8,5.1,0.5,2.8,60.0,76.2,13.3,8.2,1.3,1.0,8.4],\"y\":[502.0,111.0,1587.0,151.0,14496.0,20390.0,19.0,26.0,140.0,3.0,20785.0,47.0,33.0,4740.0,251.0,376.0,5.0,12951.0,601.0,21473.0,372.0,286.0,4332.0,1805.0,16469.0,21.0,757.0,61.0,358.0,1.0,11589.0,53415.0,53.0,256.0,61153.0,65.0,13235.0,6.0,3.0,146.0,1386.0,42.0,2160.0,631.0,881.0,14203.0,1474.0,34899.0,206.0,120018.0,58.0,100.0,45298.0,107.0,65.0,1650.0,1918.0,12176.0,679.0,15.0,2.0,786.0,125.0,3.0,6616.0,230.0,163.0,327.0,102.0,1.0,27482.0,2549.0,136.0,170.0,2448.0,350.0,15.0,26.0,308.0,566.0,2271.0,13840.0,2357.0,18114.0,25.0,6.0,7583.0,803.0,2802.0,5453.0,26626.0,160.0,79.0,70.0,24546.0,21852.0,62.0,8.0,541.0,146.0,1885.0,92.0,11670.0,52593.0,167334.0,55.0,756.0,727.0,63.0,78.0],\"type\":\"scatter\",\"xaxis\":\"x2\",\"yaxis\":\"y2\"},{\"line\":{\"color\":\"blue\"},\"mode\":\"lines\",\"name\":\"Trendline (Personal Computers)\",\"x\":[1.2,0.9,8.0,5.3,68.9,57.6,1.8,16.9,1.2,12.5,34.7,2.3,4.7,10.7,8.5,5.9,0.5,69.8,13.9,4.1,5.5,19.1,30.9,21.6,65.5,5.5,3.3,4.5,47.4,0.3,48.2,48.7,1.6,3.8,48.5,0.5,9.0,1.8,3.5,1.6,14.6,47.1,1.2,1.4,10.5,49.7,73.4,31.3,6.2,54.1,5.3,1.4,54.5,17.6,1.7,21.9,15.5,62.1,6.8,0.5,0.2,19.2,31.5,16.2,10.7,2.6,11.9,2.1,10.9,0.5,68.5,49.3,3.5,0.7,57.8,0.4,4.1,5.9,9.7,4.5,19.1,13.3,11.3,13.2,34.0,13.88,62.2,29.6,35.5,8.3,25.4,2.7,1.8,3.3,76.1,82.3,3.3,0.7,6.0,4.8,5.1,0.5,2.8,60.0,76.2,13.3,8.2,1.3,1.0,8.4],\"y\":[-1168.2121156769783,-1325.057444524723,2386.94867153857,975.3407119088672,34226.55042763076,28318.709707699043,-854.5214579814887,7040.026760688331,-1168.2121156769783,4739.628604254742,16346.18293898786,-593.1125765685808,661.6500542133779,3798.5566311682733,2648.3575529514783,1289.031369604357,-1534.1845496550495,34697.086414173995,5471.573472210885,347.9593965178881,1079.9042644740305,8190.2258389051285,14359.475440249757,9497.270245969668,32448.97003402299,1079.9042644740305,-70.29481374276475,557.0865016482146,22985.968526875717,-1638.7481022202128,23404.222737136373,23665.63161854928,-959.0850105466518,191.11406767014319,23561.068065984116,-1534.1845496550495,2909.7664343643864,-854.5214579814887,34.26873882239852,-959.0850105466518,5837.545906188955,22829.123198027974,-1168.2121156769783,-1063.6485631118153,3693.99307860311,24188.449381375096,36579.23036034693,14568.602545380083,1445.876698452102,26488.847537808688,975.3407119088672,-1063.6485631118153,26697.97464293901,7405.999194666404,-906.8032342640703,9654.115574817411,6308.08189273219,30671.389640415215,1759.5673561475912,-1534.1845496550495,-1691.0298785027942,8242.50761518771,14673.166097945248,6674.054326710261,3798.5566311682733,-436.26724772083594,4425.937946559253,-697.6761291337439,3903.1201837334365,-1534.1845496550495,34017.423322500435,23979.322276244766,34.26873882239852,-1429.6209970898863,28423.273260264203,-1586.4663259376312,347.9593965178881,1289.031369604357,3275.738868342457,557.0865016482146,8190.2258389051285,5157.882814515395,4112.247288863763,5105.601038232813,15980.210505009787,5461.117116954369,30723.671416697798,13679.812348576197,16764.437149248508,2543.794000386315,11483.977744707769,-383.9854714382543,-854.5214579814887,-70.29481374276475,37990.83831997663,41232.3084494967,-70.29481374276475,-1429.6209970898863,1341.3131458869386,713.931830495959,870.7771593437039,-1534.1845496550495,-331.7036951556729,29573.472338481,38043.12009625922,5157.882814515395,2491.5122241037334,-1115.9303393943967,-1272.7756682421414,2596.0757766688967],\"type\":\"scatter\",\"xaxis\":\"x2\",\"yaxis\":\"y2\"}],                        {\"template\":{\"data\":{\"pie\":[{\"automargin\":true,\"type\":\"pie\"}],\"scatter3d\":[{\"line\":{\"width\":3},\"marker\":{\"size\":9},\"type\":\"scatter3d\"}],\"scattergeo\":[{\"line\":{\"width\":3},\"marker\":{\"size\":9},\"type\":\"scattergeo\"}],\"scattergl\":[{\"line\":{\"width\":3},\"marker\":{\"size\":9},\"type\":\"scattergl\"}],\"scatterpolargl\":[{\"line\":{\"width\":3},\"marker\":{\"size\":9},\"type\":\"scatterpolargl\"}],\"scatterpolar\":[{\"line\":{\"width\":3},\"marker\":{\"size\":9},\"type\":\"scatterpolar\"}],\"scatter\":[{\"line\":{\"width\":3},\"marker\":{\"size\":9},\"type\":\"scatter\"}],\"scatterternary\":[{\"line\":{\"width\":3},\"marker\":{\"size\":9},\"type\":\"scatterternary\"}],\"table\":[{\"cells\":{\"height\":30},\"header\":{\"height\":36},\"type\":\"table\"}]},\"layout\":{\"font\":{\"size\":18},\"xaxis\":{\"title\":{\"standoff\":15}},\"yaxis\":{\"title\":{\"standoff\":15}}}},\"xaxis\":{\"anchor\":\"y\",\"domain\":[0.0,0.45]},\"yaxis\":{\"anchor\":\"x\",\"domain\":[0.0,1.0]},\"xaxis2\":{\"anchor\":\"y2\",\"domain\":[0.55,1.0]},\"yaxis2\":{\"anchor\":\"x2\",\"domain\":[0.0,1.0]},\"legend\":{\"orientation\":\"h\",\"yanchor\":\"bottom\",\"y\":1.04,\"xanchor\":\"center\",\"x\":0.5},\"font\":{\"size\":14},\"margin\":{\"l\":50,\"r\":50,\"t\":50,\"b\":50}},                        {\"displayModeBar\": true, \"modeBarButtonsToRemove\": [\"pan\", \"select\", \"lasso2d\", \"zoomIn\", \"zoomOut\", \"zoom\", \"autoScale\", \"resetScale\"], \"displaylogo\": false, \"responsive\": true}                    ).then(function(){\n",
       "                            \n",
       "var gd = document.getElementById('ed16eefa-cec7-4213-9220-17190bdbd954');\n",
       "var x = new MutationObserver(function (mutations, observer) {{\n",
       "        var display = window.getComputedStyle(gd).display;\n",
       "        if (!display || display === 'none') {{\n",
       "            console.log([gd, 'removed!']);\n",
       "            Plotly.purge(gd);\n",
       "            observer.disconnect();\n",
       "        }}\n",
       "}});\n",
       "\n",
       "// Listen for the removal of the full notebook cells\n",
       "var notebookContainer = gd.closest('#notebook-container');\n",
       "if (notebookContainer) {{\n",
       "    x.observe(notebookContainer, {childList: true});\n",
       "}}\n",
       "\n",
       "// Listen for the clearing of the current output cell\n",
       "var outputEl = gd.closest('.output');\n",
       "if (outputEl) {{\n",
       "    x.observe(outputEl, {childList: true});\n",
       "}}\n",
       "\n",
       "                        })                };                });            </script>        </div>"
      ]
     },
     "metadata": {},
     "output_type": "display_data"
    }
   ],
   "source": [
    "import plotly.graph_objects as go\n",
    "import numpy as np\n",
    "from plotly.subplots import make_subplots\n",
    "\n",
    "# Assuming df_mp is your DataFrame with the necessary data\n",
    "fig = make_subplots(rows=1, cols=2)\n",
    "\n",
    "# Scatter plot for \"Military_expenditure\" vs \"Patents_granted\" in the first subplot\n",
    "fig.add_trace(\n",
    "    go.Scatter(\n",
    "        x=df_mp['Military_expenditure'], \n",
    "        y=df_mp['Patents_granted'], \n",
    "        mode='markers',\n",
    "        name='Military Expenditure vs Patents'\n",
    "    ), \n",
    "    row=1, \n",
    "    col=1\n",
    ")\n",
    "\n",
    "# Calculate and add the trendline for the first subplot\n",
    "x1 = df_mp['Military_expenditure']\n",
    "y1 = df_mp['Patents_granted']\n",
    "\n",
    "z1 = np.polyfit(x1, y1, 1)  # Linear fit (degree=1)\n",
    "p1 = np.poly1d(z1)  # Create a polynomial function based on the fit\n",
    "fig.add_trace(\n",
    "    go.Scatter(\n",
    "        x=x1, \n",
    "        y=p1(x1), \n",
    "        mode='lines',\n",
    "        name='Trendline (Military Expenditure)',\n",
    "        line=dict(color='red')\n",
    "    ),\n",
    "    row=1,\n",
    "    col=1\n",
    ")\n",
    "\n",
    "# Scatter plot for \"Personal_computers_per_100_people\" vs \"Patents_granted\" in the second subplot\n",
    "fig.add_trace(\n",
    "    go.Scatter(\n",
    "        x=df_mp['Personal_computers_per_100_people'], \n",
    "        y=df_mp['Patents_granted'], \n",
    "        mode='markers',\n",
    "        name='Personal Computers vs Patents'\n",
    "    ), \n",
    "    row=1, \n",
    "    col=2\n",
    ")\n",
    "\n",
    "\n",
    "# Scatter plot for \"Personal_computers_per_100_people\" vs \"Patents_granted\" in the second subplot\n",
    "x2 = df_mp['Personal_computers_per_100_people']\n",
    "y2 = df_mp['Patents_granted']\n",
    "\n",
    "# Calculate and add the trendline for the second subplot\n",
    "z2 = np.polyfit(x2, y2, 1)  # Linear fit (degree=1)\n",
    "p2 = np.poly1d(z2)  # Create a polynomial function based on the fit\n",
    "fig.add_trace(\n",
    "    go.Scatter(\n",
    "        x=x2, \n",
    "        y=p2(x2), \n",
    "        mode='lines',\n",
    "        name='Trendline (Personal Computers)',\n",
    "        line=dict(color='blue')\n",
    "    ),\n",
    "    row=1,\n",
    "    col=2\n",
    ")\n",
    "\n",
    "fig.update_layout(\n",
    "    legend=dict(\n",
    "        orientation=\"h\",         # Horizontal orientation\n",
    "        yanchor=\"bottom\",        # Anchor the legend at the bottom\n",
    "        y=1.04,                  # Position it above the plot\n",
    "        xanchor=\"center\",        # Center it horizontally\n",
    "        x=0.5,\n",
    "        # traceorder='normal'\n",
    "    ),\n",
    "    font_size=14,\n",
    "    template=\"presentation\",     # Apply a template theme\n",
    "    margin=dict(l=50, r=50, t=50, b=50),   # Adjust margins\n",
    ")\n",
    "\n",
    "\n",
    "fig.show(config={\n",
    "    'displayModeBar': True,\n",
    "    'modeBarButtonsToRemove': ['pan', 'select', 'lasso2d', 'zoomIn', 'zoomOut', 'zoom', 'autoScale', 'resetScale'],\n",
    "    'displaylogo': False,\n",
    "})\n"
   ]
  }
 ],
 "metadata": {
  "kernelspec": {
   "display_name": "Python 3",
   "language": "python",
   "name": "python3"
  },
  "language_info": {
   "codemirror_mode": {
    "name": "ipython",
    "version": 3
   },
   "file_extension": ".py",
   "mimetype": "text/x-python",
   "name": "python",
   "nbconvert_exporter": "python",
   "pygments_lexer": "ipython3",
   "version": "3.13.0"
  }
 },
 "nbformat": 4,
 "nbformat_minor": 2
}
